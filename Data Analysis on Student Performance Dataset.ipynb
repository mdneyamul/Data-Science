{
  "nbformat": 4,
  "nbformat_minor": 0,
  "metadata": {
    "colab": {
      "name": "2017331047_2017331051.ipynb",
      "provenance": [],
      "collapsed_sections": []
    },
    "kernelspec": {
      "name": "python3",
      "display_name": "Python 3"
    }
  },
  "cells": [
    {
      "cell_type": "markdown",
      "metadata": {
        "id": "f0mH1ucfXOoy"
      },
      "source": [
        "**Name: Md. Neyamul Islam Shibbir**<br>\n",
        "**Registration No: 2017331047**<br>\n",
        "\n",
        "**Name: Hasibur Rahman**<br>\n",
        "**Registration No: 2017331051**<br>\n"
      ]
    },
    {
      "cell_type": "code",
      "metadata": {
        "colab": {
          "base_uri": "https://localhost:8080/",
          "height": 505
        },
        "id": "x_P1uhoxZ6RO",
        "outputId": "f5e0bdf8-2720-4ee7-8d06-52dea5f25c77"
      },
      "source": [
        "#@title 3. Open/Load CSV file into a Data Frame\n",
        "import pandas as pd\n",
        "import numpy as np\n",
        "import matplotlib.pyplot as plt\n",
        "from google.colab import drive\n",
        "import seaborn as sns\n",
        "import pandas as pd\n",
        "import numpy as np\n",
        "from sklearn import model_selection\n",
        "from sklearn.linear_model import LinearRegression\n",
        "from sklearn.linear_model import Ridge\n",
        "from sklearn.linear_model import Lasso\n",
        "from sklearn.linear_model import ElasticNet\n",
        "from sklearn.neighbors import KNeighborsRegressor\n",
        "from sklearn.tree import DecisionTreeRegressor\n",
        "from sklearn.svm import SVR\n",
        "from sklearn.ensemble import RandomForestRegressor\n",
        "from sklearn.metrics import r2_score\n",
        "from sklearn.model_selection import train_test_split\n",
        "from sklearn.metrics import mean_squared_error\n",
        "from math import sqrt\n",
        "\n",
        "drive.mount('/content/drive')\n",
        "\n",
        "df1 = pd.read_csv('/content/drive/MyDrive/DS_Lab/student-mat.csv', sep=';')\n",
        "df2 = pd.read_csv('/content/drive/MyDrive/DS_Lab/student-por.csv' , sep=';')\n",
        "full_df = pd.concat([df1,df2])\n",
        "df = full_df.drop_duplicates(keep='last',subset=[\"school\",\"sex\",\"age\",\"address\",\"famsize\",\"Pstatus\",\"Medu\",\"Fedu\",\"Mjob\",\"Fjob\",\"reason\",\"nursery\",\"internet\"])\n",
        "GFG = pd.ExcelWriter('/content/drive/MyDrive/DS_Lab/Names.xlsx')\n",
        "df.to_excel(GFG, index = False)\n",
        "GFG.save()\n",
        "display(df)\n"
      ],
      "execution_count": null,
      "outputs": [
        {
          "output_type": "stream",
          "name": "stdout",
          "text": [
            "Drive already mounted at /content/drive; to attempt to forcibly remount, call drive.mount(\"/content/drive\", force_remount=True).\n"
          ]
        },
        {
          "output_type": "display_data",
          "data": {
            "text/html": [
              "\n",
              "  <div id=\"df-796f8d6b-fa1c-4f5a-aabc-d7d6cf807d4d\">\n",
              "    <div class=\"colab-df-container\">\n",
              "      <div>\n",
              "<style scoped>\n",
              "    .dataframe tbody tr th:only-of-type {\n",
              "        vertical-align: middle;\n",
              "    }\n",
              "\n",
              "    .dataframe tbody tr th {\n",
              "        vertical-align: top;\n",
              "    }\n",
              "\n",
              "    .dataframe thead th {\n",
              "        text-align: right;\n",
              "    }\n",
              "</style>\n",
              "<table border=\"1\" class=\"dataframe\">\n",
              "  <thead>\n",
              "    <tr style=\"text-align: right;\">\n",
              "      <th></th>\n",
              "      <th>school</th>\n",
              "      <th>sex</th>\n",
              "      <th>age</th>\n",
              "      <th>address</th>\n",
              "      <th>famsize</th>\n",
              "      <th>Pstatus</th>\n",
              "      <th>Medu</th>\n",
              "      <th>Fedu</th>\n",
              "      <th>Mjob</th>\n",
              "      <th>Fjob</th>\n",
              "      <th>reason</th>\n",
              "      <th>guardian</th>\n",
              "      <th>traveltime</th>\n",
              "      <th>studytime</th>\n",
              "      <th>failures</th>\n",
              "      <th>schoolsup</th>\n",
              "      <th>famsup</th>\n",
              "      <th>paid</th>\n",
              "      <th>activities</th>\n",
              "      <th>nursery</th>\n",
              "      <th>higher</th>\n",
              "      <th>internet</th>\n",
              "      <th>romantic</th>\n",
              "      <th>famrel</th>\n",
              "      <th>freetime</th>\n",
              "      <th>goout</th>\n",
              "      <th>Dalc</th>\n",
              "      <th>Walc</th>\n",
              "      <th>health</th>\n",
              "      <th>absences</th>\n",
              "      <th>G1</th>\n",
              "      <th>G2</th>\n",
              "      <th>G3</th>\n",
              "    </tr>\n",
              "  </thead>\n",
              "  <tbody>\n",
              "    <tr>\n",
              "      <th>128</th>\n",
              "      <td>GP</td>\n",
              "      <td>M</td>\n",
              "      <td>18</td>\n",
              "      <td>R</td>\n",
              "      <td>GT3</td>\n",
              "      <td>T</td>\n",
              "      <td>2</td>\n",
              "      <td>2</td>\n",
              "      <td>services</td>\n",
              "      <td>other</td>\n",
              "      <td>reputation</td>\n",
              "      <td>mother</td>\n",
              "      <td>1</td>\n",
              "      <td>1</td>\n",
              "      <td>2</td>\n",
              "      <td>no</td>\n",
              "      <td>yes</td>\n",
              "      <td>no</td>\n",
              "      <td>yes</td>\n",
              "      <td>yes</td>\n",
              "      <td>yes</td>\n",
              "      <td>yes</td>\n",
              "      <td>no</td>\n",
              "      <td>3</td>\n",
              "      <td>3</td>\n",
              "      <td>3</td>\n",
              "      <td>1</td>\n",
              "      <td>2</td>\n",
              "      <td>4</td>\n",
              "      <td>0</td>\n",
              "      <td>7</td>\n",
              "      <td>4</td>\n",
              "      <td>0</td>\n",
              "    </tr>\n",
              "    <tr>\n",
              "      <th>161</th>\n",
              "      <td>GP</td>\n",
              "      <td>M</td>\n",
              "      <td>15</td>\n",
              "      <td>R</td>\n",
              "      <td>GT3</td>\n",
              "      <td>T</td>\n",
              "      <td>3</td>\n",
              "      <td>2</td>\n",
              "      <td>other</td>\n",
              "      <td>other</td>\n",
              "      <td>course</td>\n",
              "      <td>mother</td>\n",
              "      <td>2</td>\n",
              "      <td>2</td>\n",
              "      <td>2</td>\n",
              "      <td>yes</td>\n",
              "      <td>yes</td>\n",
              "      <td>no</td>\n",
              "      <td>no</td>\n",
              "      <td>yes</td>\n",
              "      <td>yes</td>\n",
              "      <td>yes</td>\n",
              "      <td>yes</td>\n",
              "      <td>4</td>\n",
              "      <td>4</td>\n",
              "      <td>4</td>\n",
              "      <td>1</td>\n",
              "      <td>4</td>\n",
              "      <td>3</td>\n",
              "      <td>6</td>\n",
              "      <td>5</td>\n",
              "      <td>9</td>\n",
              "      <td>7</td>\n",
              "    </tr>\n",
              "    <tr>\n",
              "      <th>162</th>\n",
              "      <td>GP</td>\n",
              "      <td>M</td>\n",
              "      <td>16</td>\n",
              "      <td>U</td>\n",
              "      <td>LE3</td>\n",
              "      <td>T</td>\n",
              "      <td>1</td>\n",
              "      <td>2</td>\n",
              "      <td>other</td>\n",
              "      <td>other</td>\n",
              "      <td>course</td>\n",
              "      <td>mother</td>\n",
              "      <td>2</td>\n",
              "      <td>1</td>\n",
              "      <td>1</td>\n",
              "      <td>no</td>\n",
              "      <td>no</td>\n",
              "      <td>no</td>\n",
              "      <td>yes</td>\n",
              "      <td>yes</td>\n",
              "      <td>yes</td>\n",
              "      <td>no</td>\n",
              "      <td>no</td>\n",
              "      <td>4</td>\n",
              "      <td>4</td>\n",
              "      <td>4</td>\n",
              "      <td>2</td>\n",
              "      <td>4</td>\n",
              "      <td>5</td>\n",
              "      <td>0</td>\n",
              "      <td>7</td>\n",
              "      <td>0</td>\n",
              "      <td>0</td>\n",
              "    </tr>\n",
              "    <tr>\n",
              "      <th>163</th>\n",
              "      <td>GP</td>\n",
              "      <td>M</td>\n",
              "      <td>17</td>\n",
              "      <td>U</td>\n",
              "      <td>GT3</td>\n",
              "      <td>T</td>\n",
              "      <td>1</td>\n",
              "      <td>3</td>\n",
              "      <td>at_home</td>\n",
              "      <td>services</td>\n",
              "      <td>course</td>\n",
              "      <td>father</td>\n",
              "      <td>1</td>\n",
              "      <td>1</td>\n",
              "      <td>0</td>\n",
              "      <td>no</td>\n",
              "      <td>no</td>\n",
              "      <td>no</td>\n",
              "      <td>no</td>\n",
              "      <td>yes</td>\n",
              "      <td>no</td>\n",
              "      <td>yes</td>\n",
              "      <td>no</td>\n",
              "      <td>5</td>\n",
              "      <td>3</td>\n",
              "      <td>3</td>\n",
              "      <td>1</td>\n",
              "      <td>4</td>\n",
              "      <td>2</td>\n",
              "      <td>2</td>\n",
              "      <td>10</td>\n",
              "      <td>10</td>\n",
              "      <td>10</td>\n",
              "    </tr>\n",
              "    <tr>\n",
              "      <th>165</th>\n",
              "      <td>GP</td>\n",
              "      <td>M</td>\n",
              "      <td>16</td>\n",
              "      <td>U</td>\n",
              "      <td>GT3</td>\n",
              "      <td>T</td>\n",
              "      <td>3</td>\n",
              "      <td>2</td>\n",
              "      <td>services</td>\n",
              "      <td>services</td>\n",
              "      <td>course</td>\n",
              "      <td>mother</td>\n",
              "      <td>2</td>\n",
              "      <td>1</td>\n",
              "      <td>1</td>\n",
              "      <td>no</td>\n",
              "      <td>yes</td>\n",
              "      <td>no</td>\n",
              "      <td>yes</td>\n",
              "      <td>no</td>\n",
              "      <td>no</td>\n",
              "      <td>no</td>\n",
              "      <td>no</td>\n",
              "      <td>4</td>\n",
              "      <td>5</td>\n",
              "      <td>2</td>\n",
              "      <td>1</td>\n",
              "      <td>1</td>\n",
              "      <td>2</td>\n",
              "      <td>16</td>\n",
              "      <td>12</td>\n",
              "      <td>11</td>\n",
              "      <td>12</td>\n",
              "    </tr>\n",
              "    <tr>\n",
              "      <th>...</th>\n",
              "      <td>...</td>\n",
              "      <td>...</td>\n",
              "      <td>...</td>\n",
              "      <td>...</td>\n",
              "      <td>...</td>\n",
              "      <td>...</td>\n",
              "      <td>...</td>\n",
              "      <td>...</td>\n",
              "      <td>...</td>\n",
              "      <td>...</td>\n",
              "      <td>...</td>\n",
              "      <td>...</td>\n",
              "      <td>...</td>\n",
              "      <td>...</td>\n",
              "      <td>...</td>\n",
              "      <td>...</td>\n",
              "      <td>...</td>\n",
              "      <td>...</td>\n",
              "      <td>...</td>\n",
              "      <td>...</td>\n",
              "      <td>...</td>\n",
              "      <td>...</td>\n",
              "      <td>...</td>\n",
              "      <td>...</td>\n",
              "      <td>...</td>\n",
              "      <td>...</td>\n",
              "      <td>...</td>\n",
              "      <td>...</td>\n",
              "      <td>...</td>\n",
              "      <td>...</td>\n",
              "      <td>...</td>\n",
              "      <td>...</td>\n",
              "      <td>...</td>\n",
              "    </tr>\n",
              "    <tr>\n",
              "      <th>644</th>\n",
              "      <td>MS</td>\n",
              "      <td>F</td>\n",
              "      <td>19</td>\n",
              "      <td>R</td>\n",
              "      <td>GT3</td>\n",
              "      <td>T</td>\n",
              "      <td>2</td>\n",
              "      <td>3</td>\n",
              "      <td>services</td>\n",
              "      <td>other</td>\n",
              "      <td>course</td>\n",
              "      <td>mother</td>\n",
              "      <td>1</td>\n",
              "      <td>3</td>\n",
              "      <td>1</td>\n",
              "      <td>no</td>\n",
              "      <td>no</td>\n",
              "      <td>no</td>\n",
              "      <td>yes</td>\n",
              "      <td>no</td>\n",
              "      <td>yes</td>\n",
              "      <td>yes</td>\n",
              "      <td>no</td>\n",
              "      <td>5</td>\n",
              "      <td>4</td>\n",
              "      <td>2</td>\n",
              "      <td>1</td>\n",
              "      <td>2</td>\n",
              "      <td>5</td>\n",
              "      <td>4</td>\n",
              "      <td>10</td>\n",
              "      <td>11</td>\n",
              "      <td>10</td>\n",
              "    </tr>\n",
              "    <tr>\n",
              "      <th>645</th>\n",
              "      <td>MS</td>\n",
              "      <td>F</td>\n",
              "      <td>18</td>\n",
              "      <td>U</td>\n",
              "      <td>LE3</td>\n",
              "      <td>T</td>\n",
              "      <td>3</td>\n",
              "      <td>1</td>\n",
              "      <td>teacher</td>\n",
              "      <td>services</td>\n",
              "      <td>course</td>\n",
              "      <td>mother</td>\n",
              "      <td>1</td>\n",
              "      <td>2</td>\n",
              "      <td>0</td>\n",
              "      <td>no</td>\n",
              "      <td>yes</td>\n",
              "      <td>no</td>\n",
              "      <td>no</td>\n",
              "      <td>yes</td>\n",
              "      <td>yes</td>\n",
              "      <td>yes</td>\n",
              "      <td>no</td>\n",
              "      <td>4</td>\n",
              "      <td>3</td>\n",
              "      <td>4</td>\n",
              "      <td>1</td>\n",
              "      <td>1</td>\n",
              "      <td>1</td>\n",
              "      <td>4</td>\n",
              "      <td>15</td>\n",
              "      <td>15</td>\n",
              "      <td>16</td>\n",
              "    </tr>\n",
              "    <tr>\n",
              "      <th>646</th>\n",
              "      <td>MS</td>\n",
              "      <td>F</td>\n",
              "      <td>18</td>\n",
              "      <td>U</td>\n",
              "      <td>GT3</td>\n",
              "      <td>T</td>\n",
              "      <td>1</td>\n",
              "      <td>1</td>\n",
              "      <td>other</td>\n",
              "      <td>other</td>\n",
              "      <td>course</td>\n",
              "      <td>mother</td>\n",
              "      <td>2</td>\n",
              "      <td>2</td>\n",
              "      <td>0</td>\n",
              "      <td>no</td>\n",
              "      <td>no</td>\n",
              "      <td>no</td>\n",
              "      <td>yes</td>\n",
              "      <td>yes</td>\n",
              "      <td>yes</td>\n",
              "      <td>no</td>\n",
              "      <td>no</td>\n",
              "      <td>1</td>\n",
              "      <td>1</td>\n",
              "      <td>1</td>\n",
              "      <td>1</td>\n",
              "      <td>1</td>\n",
              "      <td>5</td>\n",
              "      <td>6</td>\n",
              "      <td>11</td>\n",
              "      <td>12</td>\n",
              "      <td>9</td>\n",
              "    </tr>\n",
              "    <tr>\n",
              "      <th>647</th>\n",
              "      <td>MS</td>\n",
              "      <td>M</td>\n",
              "      <td>17</td>\n",
              "      <td>U</td>\n",
              "      <td>LE3</td>\n",
              "      <td>T</td>\n",
              "      <td>3</td>\n",
              "      <td>1</td>\n",
              "      <td>services</td>\n",
              "      <td>services</td>\n",
              "      <td>course</td>\n",
              "      <td>mother</td>\n",
              "      <td>2</td>\n",
              "      <td>1</td>\n",
              "      <td>0</td>\n",
              "      <td>no</td>\n",
              "      <td>no</td>\n",
              "      <td>no</td>\n",
              "      <td>no</td>\n",
              "      <td>no</td>\n",
              "      <td>yes</td>\n",
              "      <td>yes</td>\n",
              "      <td>no</td>\n",
              "      <td>2</td>\n",
              "      <td>4</td>\n",
              "      <td>5</td>\n",
              "      <td>3</td>\n",
              "      <td>4</td>\n",
              "      <td>2</td>\n",
              "      <td>6</td>\n",
              "      <td>10</td>\n",
              "      <td>10</td>\n",
              "      <td>10</td>\n",
              "    </tr>\n",
              "    <tr>\n",
              "      <th>648</th>\n",
              "      <td>MS</td>\n",
              "      <td>M</td>\n",
              "      <td>18</td>\n",
              "      <td>R</td>\n",
              "      <td>LE3</td>\n",
              "      <td>T</td>\n",
              "      <td>3</td>\n",
              "      <td>2</td>\n",
              "      <td>services</td>\n",
              "      <td>other</td>\n",
              "      <td>course</td>\n",
              "      <td>mother</td>\n",
              "      <td>3</td>\n",
              "      <td>1</td>\n",
              "      <td>0</td>\n",
              "      <td>no</td>\n",
              "      <td>no</td>\n",
              "      <td>no</td>\n",
              "      <td>no</td>\n",
              "      <td>no</td>\n",
              "      <td>yes</td>\n",
              "      <td>yes</td>\n",
              "      <td>no</td>\n",
              "      <td>4</td>\n",
              "      <td>4</td>\n",
              "      <td>1</td>\n",
              "      <td>3</td>\n",
              "      <td>4</td>\n",
              "      <td>5</td>\n",
              "      <td>4</td>\n",
              "      <td>10</td>\n",
              "      <td>11</td>\n",
              "      <td>11</td>\n",
              "    </tr>\n",
              "  </tbody>\n",
              "</table>\n",
              "<p>662 rows × 33 columns</p>\n",
              "</div>\n",
              "      <button class=\"colab-df-convert\" onclick=\"convertToInteractive('df-796f8d6b-fa1c-4f5a-aabc-d7d6cf807d4d')\"\n",
              "              title=\"Convert this dataframe to an interactive table.\"\n",
              "              style=\"display:none;\">\n",
              "        \n",
              "  <svg xmlns=\"http://www.w3.org/2000/svg\" height=\"24px\"viewBox=\"0 0 24 24\"\n",
              "       width=\"24px\">\n",
              "    <path d=\"M0 0h24v24H0V0z\" fill=\"none\"/>\n",
              "    <path d=\"M18.56 5.44l.94 2.06.94-2.06 2.06-.94-2.06-.94-.94-2.06-.94 2.06-2.06.94zm-11 1L8.5 8.5l.94-2.06 2.06-.94-2.06-.94L8.5 2.5l-.94 2.06-2.06.94zm10 10l.94 2.06.94-2.06 2.06-.94-2.06-.94-.94-2.06-.94 2.06-2.06.94z\"/><path d=\"M17.41 7.96l-1.37-1.37c-.4-.4-.92-.59-1.43-.59-.52 0-1.04.2-1.43.59L10.3 9.45l-7.72 7.72c-.78.78-.78 2.05 0 2.83L4 21.41c.39.39.9.59 1.41.59.51 0 1.02-.2 1.41-.59l7.78-7.78 2.81-2.81c.8-.78.8-2.07 0-2.86zM5.41 20L4 18.59l7.72-7.72 1.47 1.35L5.41 20z\"/>\n",
              "  </svg>\n",
              "      </button>\n",
              "      \n",
              "  <style>\n",
              "    .colab-df-container {\n",
              "      display:flex;\n",
              "      flex-wrap:wrap;\n",
              "      gap: 12px;\n",
              "    }\n",
              "\n",
              "    .colab-df-convert {\n",
              "      background-color: #E8F0FE;\n",
              "      border: none;\n",
              "      border-radius: 50%;\n",
              "      cursor: pointer;\n",
              "      display: none;\n",
              "      fill: #1967D2;\n",
              "      height: 32px;\n",
              "      padding: 0 0 0 0;\n",
              "      width: 32px;\n",
              "    }\n",
              "\n",
              "    .colab-df-convert:hover {\n",
              "      background-color: #E2EBFA;\n",
              "      box-shadow: 0px 1px 2px rgba(60, 64, 67, 0.3), 0px 1px 3px 1px rgba(60, 64, 67, 0.15);\n",
              "      fill: #174EA6;\n",
              "    }\n",
              "\n",
              "    [theme=dark] .colab-df-convert {\n",
              "      background-color: #3B4455;\n",
              "      fill: #D2E3FC;\n",
              "    }\n",
              "\n",
              "    [theme=dark] .colab-df-convert:hover {\n",
              "      background-color: #434B5C;\n",
              "      box-shadow: 0px 1px 3px 1px rgba(0, 0, 0, 0.15);\n",
              "      filter: drop-shadow(0px 1px 2px rgba(0, 0, 0, 0.3));\n",
              "      fill: #FFFFFF;\n",
              "    }\n",
              "  </style>\n",
              "\n",
              "      <script>\n",
              "        const buttonEl =\n",
              "          document.querySelector('#df-796f8d6b-fa1c-4f5a-aabc-d7d6cf807d4d button.colab-df-convert');\n",
              "        buttonEl.style.display =\n",
              "          google.colab.kernel.accessAllowed ? 'block' : 'none';\n",
              "\n",
              "        async function convertToInteractive(key) {\n",
              "          const element = document.querySelector('#df-796f8d6b-fa1c-4f5a-aabc-d7d6cf807d4d');\n",
              "          const dataTable =\n",
              "            await google.colab.kernel.invokeFunction('convertToInteractive',\n",
              "                                                     [key], {});\n",
              "          if (!dataTable) return;\n",
              "\n",
              "          const docLinkHtml = 'Like what you see? Visit the ' +\n",
              "            '<a target=\"_blank\" href=https://colab.research.google.com/notebooks/data_table.ipynb>data table notebook</a>'\n",
              "            + ' to learn more about interactive tables.';\n",
              "          element.innerHTML = '';\n",
              "          dataTable['output_type'] = 'display_data';\n",
              "          await google.colab.output.renderOutput(dataTable, element);\n",
              "          const docLink = document.createElement('div');\n",
              "          docLink.innerHTML = docLinkHtml;\n",
              "          element.appendChild(docLink);\n",
              "        }\n",
              "      </script>\n",
              "    </div>\n",
              "  </div>\n",
              "  "
            ],
            "text/plain": [
              "    school sex  age address famsize Pstatus  ...  Walc  health absences  G1  G2  G3\n",
              "128     GP   M   18       R     GT3       T  ...     2       4        0   7   4   0\n",
              "161     GP   M   15       R     GT3       T  ...     4       3        6   5   9   7\n",
              "162     GP   M   16       U     LE3       T  ...     4       5        0   7   0   0\n",
              "163     GP   M   17       U     GT3       T  ...     4       2        2  10  10  10\n",
              "165     GP   M   16       U     GT3       T  ...     1       2       16  12  11  12\n",
              "..     ...  ..  ...     ...     ...     ...  ...   ...     ...      ...  ..  ..  ..\n",
              "644     MS   F   19       R     GT3       T  ...     2       5        4  10  11  10\n",
              "645     MS   F   18       U     LE3       T  ...     1       1        4  15  15  16\n",
              "646     MS   F   18       U     GT3       T  ...     1       5        6  11  12   9\n",
              "647     MS   M   17       U     LE3       T  ...     4       2        6  10  10  10\n",
              "648     MS   M   18       R     LE3       T  ...     4       5        4  10  11  11\n",
              "\n",
              "[662 rows x 33 columns]"
            ]
          },
          "metadata": {}
        }
      ]
    },
    {
      "cell_type": "markdown",
      "source": [
        "\n",
        "\n",
        "**Task #1**<br>\n",
        "--------------------------\n",
        "-------------------------\n",
        "\n",
        "**Learning Outcomes**<br>\n",
        "**Answer:** <br>\n",
        "1. In Data Science DataFrame is a 2-dimensional data structure capable of holding heterogeneous data <br>\n",
        "2. The CSV file is opened and loaded into the data frame df1 and df2.  <br>\n",
        "3. The size of the dataset\n",
        "\n"
      ],
      "metadata": {
        "id": "JODAr8A5PQvE"
      }
    },
    {
      "cell_type": "code",
      "source": [
        "df.size"
      ],
      "metadata": {
        "colab": {
          "base_uri": "https://localhost:8080/"
        },
        "id": "1PFX-4-L-rJd",
        "outputId": "a54a595d-09d4-4578-a17f-1d34df013ffa"
      },
      "execution_count": null,
      "outputs": [
        {
          "output_type": "execute_result",
          "data": {
            "text/plain": [
              "21846"
            ]
          },
          "metadata": {},
          "execution_count": 3
        }
      ]
    },
    {
      "cell_type": "markdown",
      "source": [
        "4. Column names are:"
      ],
      "metadata": {
        "id": "0Ks03vdtQhAl"
      }
    },
    {
      "cell_type": "code",
      "source": [
        "df.columns"
      ],
      "metadata": {
        "colab": {
          "base_uri": "https://localhost:8080/"
        },
        "id": "BXvdF08cDlsN",
        "outputId": "1956b4ae-3962-4e9d-8de8-3243280bc5e9"
      },
      "execution_count": null,
      "outputs": [
        {
          "output_type": "execute_result",
          "data": {
            "text/plain": [
              "Index(['school', 'sex', 'age', 'address', 'famsize', 'Pstatus', 'Medu', 'Fedu',\n",
              "       'Mjob', 'Fjob', 'reason', 'guardian', 'traveltime', 'studytime',\n",
              "       'failures', 'schoolsup', 'famsup', 'paid', 'activities', 'nursery',\n",
              "       'higher', 'internet', 'romantic', 'famrel', 'freetime', 'goout', 'Dalc',\n",
              "       'Walc', 'health', 'absences', 'G1', 'G2', 'G3'],\n",
              "      dtype='object')"
            ]
          },
          "metadata": {},
          "execution_count": 4
        }
      ]
    },
    {
      "cell_type": "markdown",
      "source": [
        "5. Column Datatypes are:"
      ],
      "metadata": {
        "id": "989d6YNnQ-b5"
      }
    },
    {
      "cell_type": "code",
      "source": [
        "df.dtypes"
      ],
      "metadata": {
        "colab": {
          "base_uri": "https://localhost:8080/"
        },
        "id": "UtWiaSIGVKkm",
        "outputId": "84968300-1b42-4510-9315-3fad2b3c5e5c"
      },
      "execution_count": null,
      "outputs": [
        {
          "output_type": "execute_result",
          "data": {
            "text/plain": [
              "school        object\n",
              "sex           object\n",
              "age            int64\n",
              "address       object\n",
              "famsize       object\n",
              "Pstatus       object\n",
              "Medu           int64\n",
              "Fedu           int64\n",
              "Mjob          object\n",
              "Fjob          object\n",
              "reason        object\n",
              "guardian      object\n",
              "traveltime     int64\n",
              "studytime      int64\n",
              "failures       int64\n",
              "schoolsup     object\n",
              "famsup        object\n",
              "paid          object\n",
              "activities    object\n",
              "nursery       object\n",
              "higher        object\n",
              "internet      object\n",
              "romantic      object\n",
              "famrel         int64\n",
              "freetime       int64\n",
              "goout          int64\n",
              "Dalc           int64\n",
              "Walc           int64\n",
              "health         int64\n",
              "absences       int64\n",
              "G1             int64\n",
              "G2             int64\n",
              "G3             int64\n",
              "dtype: object"
            ]
          },
          "metadata": {},
          "execution_count": 7
        }
      ]
    },
    {
      "cell_type": "markdown",
      "source": [
        "6. There are no missing or null values.\n",
        "7. No null values to Drop.\n",
        "8. No null values to Replace.\n",
        "\n"
      ],
      "metadata": {
        "id": "3h8cLnflRNAh"
      }
    },
    {
      "cell_type": "code",
      "metadata": {
        "colab": {
          "base_uri": "https://localhost:8080/",
          "height": 488
        },
        "id": "aSBlw_JbYHLH",
        "outputId": "ca7b3120-7c57-4844-ae48-0817f6aeccf4"
      },
      "source": [
        "df.isnull()"
      ],
      "execution_count": null,
      "outputs": [
        {
          "output_type": "execute_result",
          "data": {
            "text/html": [
              "\n",
              "  <div id=\"df-7b1f30bb-db22-40a3-afb4-fd86799a2dc7\">\n",
              "    <div class=\"colab-df-container\">\n",
              "      <div>\n",
              "<style scoped>\n",
              "    .dataframe tbody tr th:only-of-type {\n",
              "        vertical-align: middle;\n",
              "    }\n",
              "\n",
              "    .dataframe tbody tr th {\n",
              "        vertical-align: top;\n",
              "    }\n",
              "\n",
              "    .dataframe thead th {\n",
              "        text-align: right;\n",
              "    }\n",
              "</style>\n",
              "<table border=\"1\" class=\"dataframe\">\n",
              "  <thead>\n",
              "    <tr style=\"text-align: right;\">\n",
              "      <th></th>\n",
              "      <th>school</th>\n",
              "      <th>sex</th>\n",
              "      <th>age</th>\n",
              "      <th>address</th>\n",
              "      <th>famsize</th>\n",
              "      <th>Pstatus</th>\n",
              "      <th>Medu</th>\n",
              "      <th>Fedu</th>\n",
              "      <th>Mjob</th>\n",
              "      <th>Fjob</th>\n",
              "      <th>reason</th>\n",
              "      <th>guardian</th>\n",
              "      <th>traveltime</th>\n",
              "      <th>studytime</th>\n",
              "      <th>failures</th>\n",
              "      <th>schoolsup</th>\n",
              "      <th>famsup</th>\n",
              "      <th>paid</th>\n",
              "      <th>activities</th>\n",
              "      <th>nursery</th>\n",
              "      <th>higher</th>\n",
              "      <th>internet</th>\n",
              "      <th>romantic</th>\n",
              "      <th>famrel</th>\n",
              "      <th>freetime</th>\n",
              "      <th>goout</th>\n",
              "      <th>Dalc</th>\n",
              "      <th>Walc</th>\n",
              "      <th>health</th>\n",
              "      <th>absences</th>\n",
              "      <th>G1</th>\n",
              "      <th>G2</th>\n",
              "      <th>G3</th>\n",
              "    </tr>\n",
              "  </thead>\n",
              "  <tbody>\n",
              "    <tr>\n",
              "      <th>128</th>\n",
              "      <td>False</td>\n",
              "      <td>False</td>\n",
              "      <td>False</td>\n",
              "      <td>False</td>\n",
              "      <td>False</td>\n",
              "      <td>False</td>\n",
              "      <td>False</td>\n",
              "      <td>False</td>\n",
              "      <td>False</td>\n",
              "      <td>False</td>\n",
              "      <td>False</td>\n",
              "      <td>False</td>\n",
              "      <td>False</td>\n",
              "      <td>False</td>\n",
              "      <td>False</td>\n",
              "      <td>False</td>\n",
              "      <td>False</td>\n",
              "      <td>False</td>\n",
              "      <td>False</td>\n",
              "      <td>False</td>\n",
              "      <td>False</td>\n",
              "      <td>False</td>\n",
              "      <td>False</td>\n",
              "      <td>False</td>\n",
              "      <td>False</td>\n",
              "      <td>False</td>\n",
              "      <td>False</td>\n",
              "      <td>False</td>\n",
              "      <td>False</td>\n",
              "      <td>False</td>\n",
              "      <td>False</td>\n",
              "      <td>False</td>\n",
              "      <td>False</td>\n",
              "    </tr>\n",
              "    <tr>\n",
              "      <th>161</th>\n",
              "      <td>False</td>\n",
              "      <td>False</td>\n",
              "      <td>False</td>\n",
              "      <td>False</td>\n",
              "      <td>False</td>\n",
              "      <td>False</td>\n",
              "      <td>False</td>\n",
              "      <td>False</td>\n",
              "      <td>False</td>\n",
              "      <td>False</td>\n",
              "      <td>False</td>\n",
              "      <td>False</td>\n",
              "      <td>False</td>\n",
              "      <td>False</td>\n",
              "      <td>False</td>\n",
              "      <td>False</td>\n",
              "      <td>False</td>\n",
              "      <td>False</td>\n",
              "      <td>False</td>\n",
              "      <td>False</td>\n",
              "      <td>False</td>\n",
              "      <td>False</td>\n",
              "      <td>False</td>\n",
              "      <td>False</td>\n",
              "      <td>False</td>\n",
              "      <td>False</td>\n",
              "      <td>False</td>\n",
              "      <td>False</td>\n",
              "      <td>False</td>\n",
              "      <td>False</td>\n",
              "      <td>False</td>\n",
              "      <td>False</td>\n",
              "      <td>False</td>\n",
              "    </tr>\n",
              "    <tr>\n",
              "      <th>162</th>\n",
              "      <td>False</td>\n",
              "      <td>False</td>\n",
              "      <td>False</td>\n",
              "      <td>False</td>\n",
              "      <td>False</td>\n",
              "      <td>False</td>\n",
              "      <td>False</td>\n",
              "      <td>False</td>\n",
              "      <td>False</td>\n",
              "      <td>False</td>\n",
              "      <td>False</td>\n",
              "      <td>False</td>\n",
              "      <td>False</td>\n",
              "      <td>False</td>\n",
              "      <td>False</td>\n",
              "      <td>False</td>\n",
              "      <td>False</td>\n",
              "      <td>False</td>\n",
              "      <td>False</td>\n",
              "      <td>False</td>\n",
              "      <td>False</td>\n",
              "      <td>False</td>\n",
              "      <td>False</td>\n",
              "      <td>False</td>\n",
              "      <td>False</td>\n",
              "      <td>False</td>\n",
              "      <td>False</td>\n",
              "      <td>False</td>\n",
              "      <td>False</td>\n",
              "      <td>False</td>\n",
              "      <td>False</td>\n",
              "      <td>False</td>\n",
              "      <td>False</td>\n",
              "    </tr>\n",
              "    <tr>\n",
              "      <th>163</th>\n",
              "      <td>False</td>\n",
              "      <td>False</td>\n",
              "      <td>False</td>\n",
              "      <td>False</td>\n",
              "      <td>False</td>\n",
              "      <td>False</td>\n",
              "      <td>False</td>\n",
              "      <td>False</td>\n",
              "      <td>False</td>\n",
              "      <td>False</td>\n",
              "      <td>False</td>\n",
              "      <td>False</td>\n",
              "      <td>False</td>\n",
              "      <td>False</td>\n",
              "      <td>False</td>\n",
              "      <td>False</td>\n",
              "      <td>False</td>\n",
              "      <td>False</td>\n",
              "      <td>False</td>\n",
              "      <td>False</td>\n",
              "      <td>False</td>\n",
              "      <td>False</td>\n",
              "      <td>False</td>\n",
              "      <td>False</td>\n",
              "      <td>False</td>\n",
              "      <td>False</td>\n",
              "      <td>False</td>\n",
              "      <td>False</td>\n",
              "      <td>False</td>\n",
              "      <td>False</td>\n",
              "      <td>False</td>\n",
              "      <td>False</td>\n",
              "      <td>False</td>\n",
              "    </tr>\n",
              "    <tr>\n",
              "      <th>165</th>\n",
              "      <td>False</td>\n",
              "      <td>False</td>\n",
              "      <td>False</td>\n",
              "      <td>False</td>\n",
              "      <td>False</td>\n",
              "      <td>False</td>\n",
              "      <td>False</td>\n",
              "      <td>False</td>\n",
              "      <td>False</td>\n",
              "      <td>False</td>\n",
              "      <td>False</td>\n",
              "      <td>False</td>\n",
              "      <td>False</td>\n",
              "      <td>False</td>\n",
              "      <td>False</td>\n",
              "      <td>False</td>\n",
              "      <td>False</td>\n",
              "      <td>False</td>\n",
              "      <td>False</td>\n",
              "      <td>False</td>\n",
              "      <td>False</td>\n",
              "      <td>False</td>\n",
              "      <td>False</td>\n",
              "      <td>False</td>\n",
              "      <td>False</td>\n",
              "      <td>False</td>\n",
              "      <td>False</td>\n",
              "      <td>False</td>\n",
              "      <td>False</td>\n",
              "      <td>False</td>\n",
              "      <td>False</td>\n",
              "      <td>False</td>\n",
              "      <td>False</td>\n",
              "    </tr>\n",
              "    <tr>\n",
              "      <th>...</th>\n",
              "      <td>...</td>\n",
              "      <td>...</td>\n",
              "      <td>...</td>\n",
              "      <td>...</td>\n",
              "      <td>...</td>\n",
              "      <td>...</td>\n",
              "      <td>...</td>\n",
              "      <td>...</td>\n",
              "      <td>...</td>\n",
              "      <td>...</td>\n",
              "      <td>...</td>\n",
              "      <td>...</td>\n",
              "      <td>...</td>\n",
              "      <td>...</td>\n",
              "      <td>...</td>\n",
              "      <td>...</td>\n",
              "      <td>...</td>\n",
              "      <td>...</td>\n",
              "      <td>...</td>\n",
              "      <td>...</td>\n",
              "      <td>...</td>\n",
              "      <td>...</td>\n",
              "      <td>...</td>\n",
              "      <td>...</td>\n",
              "      <td>...</td>\n",
              "      <td>...</td>\n",
              "      <td>...</td>\n",
              "      <td>...</td>\n",
              "      <td>...</td>\n",
              "      <td>...</td>\n",
              "      <td>...</td>\n",
              "      <td>...</td>\n",
              "      <td>...</td>\n",
              "    </tr>\n",
              "    <tr>\n",
              "      <th>644</th>\n",
              "      <td>False</td>\n",
              "      <td>False</td>\n",
              "      <td>False</td>\n",
              "      <td>False</td>\n",
              "      <td>False</td>\n",
              "      <td>False</td>\n",
              "      <td>False</td>\n",
              "      <td>False</td>\n",
              "      <td>False</td>\n",
              "      <td>False</td>\n",
              "      <td>False</td>\n",
              "      <td>False</td>\n",
              "      <td>False</td>\n",
              "      <td>False</td>\n",
              "      <td>False</td>\n",
              "      <td>False</td>\n",
              "      <td>False</td>\n",
              "      <td>False</td>\n",
              "      <td>False</td>\n",
              "      <td>False</td>\n",
              "      <td>False</td>\n",
              "      <td>False</td>\n",
              "      <td>False</td>\n",
              "      <td>False</td>\n",
              "      <td>False</td>\n",
              "      <td>False</td>\n",
              "      <td>False</td>\n",
              "      <td>False</td>\n",
              "      <td>False</td>\n",
              "      <td>False</td>\n",
              "      <td>False</td>\n",
              "      <td>False</td>\n",
              "      <td>False</td>\n",
              "    </tr>\n",
              "    <tr>\n",
              "      <th>645</th>\n",
              "      <td>False</td>\n",
              "      <td>False</td>\n",
              "      <td>False</td>\n",
              "      <td>False</td>\n",
              "      <td>False</td>\n",
              "      <td>False</td>\n",
              "      <td>False</td>\n",
              "      <td>False</td>\n",
              "      <td>False</td>\n",
              "      <td>False</td>\n",
              "      <td>False</td>\n",
              "      <td>False</td>\n",
              "      <td>False</td>\n",
              "      <td>False</td>\n",
              "      <td>False</td>\n",
              "      <td>False</td>\n",
              "      <td>False</td>\n",
              "      <td>False</td>\n",
              "      <td>False</td>\n",
              "      <td>False</td>\n",
              "      <td>False</td>\n",
              "      <td>False</td>\n",
              "      <td>False</td>\n",
              "      <td>False</td>\n",
              "      <td>False</td>\n",
              "      <td>False</td>\n",
              "      <td>False</td>\n",
              "      <td>False</td>\n",
              "      <td>False</td>\n",
              "      <td>False</td>\n",
              "      <td>False</td>\n",
              "      <td>False</td>\n",
              "      <td>False</td>\n",
              "    </tr>\n",
              "    <tr>\n",
              "      <th>646</th>\n",
              "      <td>False</td>\n",
              "      <td>False</td>\n",
              "      <td>False</td>\n",
              "      <td>False</td>\n",
              "      <td>False</td>\n",
              "      <td>False</td>\n",
              "      <td>False</td>\n",
              "      <td>False</td>\n",
              "      <td>False</td>\n",
              "      <td>False</td>\n",
              "      <td>False</td>\n",
              "      <td>False</td>\n",
              "      <td>False</td>\n",
              "      <td>False</td>\n",
              "      <td>False</td>\n",
              "      <td>False</td>\n",
              "      <td>False</td>\n",
              "      <td>False</td>\n",
              "      <td>False</td>\n",
              "      <td>False</td>\n",
              "      <td>False</td>\n",
              "      <td>False</td>\n",
              "      <td>False</td>\n",
              "      <td>False</td>\n",
              "      <td>False</td>\n",
              "      <td>False</td>\n",
              "      <td>False</td>\n",
              "      <td>False</td>\n",
              "      <td>False</td>\n",
              "      <td>False</td>\n",
              "      <td>False</td>\n",
              "      <td>False</td>\n",
              "      <td>False</td>\n",
              "    </tr>\n",
              "    <tr>\n",
              "      <th>647</th>\n",
              "      <td>False</td>\n",
              "      <td>False</td>\n",
              "      <td>False</td>\n",
              "      <td>False</td>\n",
              "      <td>False</td>\n",
              "      <td>False</td>\n",
              "      <td>False</td>\n",
              "      <td>False</td>\n",
              "      <td>False</td>\n",
              "      <td>False</td>\n",
              "      <td>False</td>\n",
              "      <td>False</td>\n",
              "      <td>False</td>\n",
              "      <td>False</td>\n",
              "      <td>False</td>\n",
              "      <td>False</td>\n",
              "      <td>False</td>\n",
              "      <td>False</td>\n",
              "      <td>False</td>\n",
              "      <td>False</td>\n",
              "      <td>False</td>\n",
              "      <td>False</td>\n",
              "      <td>False</td>\n",
              "      <td>False</td>\n",
              "      <td>False</td>\n",
              "      <td>False</td>\n",
              "      <td>False</td>\n",
              "      <td>False</td>\n",
              "      <td>False</td>\n",
              "      <td>False</td>\n",
              "      <td>False</td>\n",
              "      <td>False</td>\n",
              "      <td>False</td>\n",
              "    </tr>\n",
              "    <tr>\n",
              "      <th>648</th>\n",
              "      <td>False</td>\n",
              "      <td>False</td>\n",
              "      <td>False</td>\n",
              "      <td>False</td>\n",
              "      <td>False</td>\n",
              "      <td>False</td>\n",
              "      <td>False</td>\n",
              "      <td>False</td>\n",
              "      <td>False</td>\n",
              "      <td>False</td>\n",
              "      <td>False</td>\n",
              "      <td>False</td>\n",
              "      <td>False</td>\n",
              "      <td>False</td>\n",
              "      <td>False</td>\n",
              "      <td>False</td>\n",
              "      <td>False</td>\n",
              "      <td>False</td>\n",
              "      <td>False</td>\n",
              "      <td>False</td>\n",
              "      <td>False</td>\n",
              "      <td>False</td>\n",
              "      <td>False</td>\n",
              "      <td>False</td>\n",
              "      <td>False</td>\n",
              "      <td>False</td>\n",
              "      <td>False</td>\n",
              "      <td>False</td>\n",
              "      <td>False</td>\n",
              "      <td>False</td>\n",
              "      <td>False</td>\n",
              "      <td>False</td>\n",
              "      <td>False</td>\n",
              "    </tr>\n",
              "  </tbody>\n",
              "</table>\n",
              "<p>662 rows × 33 columns</p>\n",
              "</div>\n",
              "      <button class=\"colab-df-convert\" onclick=\"convertToInteractive('df-7b1f30bb-db22-40a3-afb4-fd86799a2dc7')\"\n",
              "              title=\"Convert this dataframe to an interactive table.\"\n",
              "              style=\"display:none;\">\n",
              "        \n",
              "  <svg xmlns=\"http://www.w3.org/2000/svg\" height=\"24px\"viewBox=\"0 0 24 24\"\n",
              "       width=\"24px\">\n",
              "    <path d=\"M0 0h24v24H0V0z\" fill=\"none\"/>\n",
              "    <path d=\"M18.56 5.44l.94 2.06.94-2.06 2.06-.94-2.06-.94-.94-2.06-.94 2.06-2.06.94zm-11 1L8.5 8.5l.94-2.06 2.06-.94-2.06-.94L8.5 2.5l-.94 2.06-2.06.94zm10 10l.94 2.06.94-2.06 2.06-.94-2.06-.94-.94-2.06-.94 2.06-2.06.94z\"/><path d=\"M17.41 7.96l-1.37-1.37c-.4-.4-.92-.59-1.43-.59-.52 0-1.04.2-1.43.59L10.3 9.45l-7.72 7.72c-.78.78-.78 2.05 0 2.83L4 21.41c.39.39.9.59 1.41.59.51 0 1.02-.2 1.41-.59l7.78-7.78 2.81-2.81c.8-.78.8-2.07 0-2.86zM5.41 20L4 18.59l7.72-7.72 1.47 1.35L5.41 20z\"/>\n",
              "  </svg>\n",
              "      </button>\n",
              "      \n",
              "  <style>\n",
              "    .colab-df-container {\n",
              "      display:flex;\n",
              "      flex-wrap:wrap;\n",
              "      gap: 12px;\n",
              "    }\n",
              "\n",
              "    .colab-df-convert {\n",
              "      background-color: #E8F0FE;\n",
              "      border: none;\n",
              "      border-radius: 50%;\n",
              "      cursor: pointer;\n",
              "      display: none;\n",
              "      fill: #1967D2;\n",
              "      height: 32px;\n",
              "      padding: 0 0 0 0;\n",
              "      width: 32px;\n",
              "    }\n",
              "\n",
              "    .colab-df-convert:hover {\n",
              "      background-color: #E2EBFA;\n",
              "      box-shadow: 0px 1px 2px rgba(60, 64, 67, 0.3), 0px 1px 3px 1px rgba(60, 64, 67, 0.15);\n",
              "      fill: #174EA6;\n",
              "    }\n",
              "\n",
              "    [theme=dark] .colab-df-convert {\n",
              "      background-color: #3B4455;\n",
              "      fill: #D2E3FC;\n",
              "    }\n",
              "\n",
              "    [theme=dark] .colab-df-convert:hover {\n",
              "      background-color: #434B5C;\n",
              "      box-shadow: 0px 1px 3px 1px rgba(0, 0, 0, 0.15);\n",
              "      filter: drop-shadow(0px 1px 2px rgba(0, 0, 0, 0.3));\n",
              "      fill: #FFFFFF;\n",
              "    }\n",
              "  </style>\n",
              "\n",
              "      <script>\n",
              "        const buttonEl =\n",
              "          document.querySelector('#df-7b1f30bb-db22-40a3-afb4-fd86799a2dc7 button.colab-df-convert');\n",
              "        buttonEl.style.display =\n",
              "          google.colab.kernel.accessAllowed ? 'block' : 'none';\n",
              "\n",
              "        async function convertToInteractive(key) {\n",
              "          const element = document.querySelector('#df-7b1f30bb-db22-40a3-afb4-fd86799a2dc7');\n",
              "          const dataTable =\n",
              "            await google.colab.kernel.invokeFunction('convertToInteractive',\n",
              "                                                     [key], {});\n",
              "          if (!dataTable) return;\n",
              "\n",
              "          const docLinkHtml = 'Like what you see? Visit the ' +\n",
              "            '<a target=\"_blank\" href=https://colab.research.google.com/notebooks/data_table.ipynb>data table notebook</a>'\n",
              "            + ' to learn more about interactive tables.';\n",
              "          element.innerHTML = '';\n",
              "          dataTable['output_type'] = 'display_data';\n",
              "          await google.colab.output.renderOutput(dataTable, element);\n",
              "          const docLink = document.createElement('div');\n",
              "          docLink.innerHTML = docLinkHtml;\n",
              "          element.appendChild(docLink);\n",
              "        }\n",
              "      </script>\n",
              "    </div>\n",
              "  </div>\n",
              "  "
            ],
            "text/plain": [
              "     school    sex    age  address  ...  absences     G1     G2     G3\n",
              "128   False  False  False    False  ...     False  False  False  False\n",
              "161   False  False  False    False  ...     False  False  False  False\n",
              "162   False  False  False    False  ...     False  False  False  False\n",
              "163   False  False  False    False  ...     False  False  False  False\n",
              "165   False  False  False    False  ...     False  False  False  False\n",
              "..      ...    ...    ...      ...  ...       ...    ...    ...    ...\n",
              "644   False  False  False    False  ...     False  False  False  False\n",
              "645   False  False  False    False  ...     False  False  False  False\n",
              "646   False  False  False    False  ...     False  False  False  False\n",
              "647   False  False  False    False  ...     False  False  False  False\n",
              "648   False  False  False    False  ...     False  False  False  False\n",
              "\n",
              "[662 rows x 33 columns]"
            ]
          },
          "metadata": {},
          "execution_count": 8
        }
      ]
    },
    {
      "cell_type": "markdown",
      "source": [
        "9. Data from the Column named \"SEX\"."
      ],
      "metadata": {
        "id": "28TrrjChRwJu"
      }
    },
    {
      "cell_type": "code",
      "source": [
        "df['sex'].tolist()"
      ],
      "metadata": {
        "colab": {
          "base_uri": "https://localhost:8080/"
        },
        "id": "s0EkbicxEISc",
        "outputId": "3422e531-a607-4671-a135-020d1261008d"
      },
      "execution_count": null,
      "outputs": [
        {
          "output_type": "execute_result",
          "data": {
            "text/plain": [
              "['M',\n",
              " 'M',\n",
              " 'M',\n",
              " 'M',\n",
              " 'M',\n",
              " 'F',\n",
              " 'M',\n",
              " 'F',\n",
              " 'M',\n",
              " 'F',\n",
              " 'F',\n",
              " 'F',\n",
              " 'M',\n",
              " 'F',\n",
              " 'F',\n",
              " 'F',\n",
              " 'F',\n",
              " 'F',\n",
              " 'F',\n",
              " 'M',\n",
              " 'F',\n",
              " 'F',\n",
              " 'M',\n",
              " 'M',\n",
              " 'M',\n",
              " 'F',\n",
              " 'F',\n",
              " 'F',\n",
              " 'F',\n",
              " 'F',\n",
              " 'M',\n",
              " 'M',\n",
              " 'F',\n",
              " 'M',\n",
              " 'M',\n",
              " 'F',\n",
              " 'F',\n",
              " 'M',\n",
              " 'M',\n",
              " 'M',\n",
              " 'F',\n",
              " 'F',\n",
              " 'F',\n",
              " 'M',\n",
              " 'M',\n",
              " 'M',\n",
              " 'M',\n",
              " 'M',\n",
              " 'M',\n",
              " 'F',\n",
              " 'F',\n",
              " 'M',\n",
              " 'M',\n",
              " 'M',\n",
              " 'M',\n",
              " 'M',\n",
              " 'M',\n",
              " 'M',\n",
              " 'M',\n",
              " 'M',\n",
              " 'F',\n",
              " 'M',\n",
              " 'M',\n",
              " 'F',\n",
              " 'F',\n",
              " 'F',\n",
              " 'M',\n",
              " 'M',\n",
              " 'M',\n",
              " 'F',\n",
              " 'F',\n",
              " 'F',\n",
              " 'M',\n",
              " 'M',\n",
              " 'F',\n",
              " 'F',\n",
              " 'F',\n",
              " 'M',\n",
              " 'F',\n",
              " 'F',\n",
              " 'F',\n",
              " 'F',\n",
              " 'M',\n",
              " 'M',\n",
              " 'F',\n",
              " 'F',\n",
              " 'F',\n",
              " 'F',\n",
              " 'F',\n",
              " 'F',\n",
              " 'F',\n",
              " 'M',\n",
              " 'F',\n",
              " 'F',\n",
              " 'F',\n",
              " 'M',\n",
              " 'M',\n",
              " 'F',\n",
              " 'M',\n",
              " 'F',\n",
              " 'M',\n",
              " 'M',\n",
              " 'F',\n",
              " 'F',\n",
              " 'M',\n",
              " 'M',\n",
              " 'F',\n",
              " 'M',\n",
              " 'F',\n",
              " 'F',\n",
              " 'F',\n",
              " 'F',\n",
              " 'M',\n",
              " 'M',\n",
              " 'F',\n",
              " 'F',\n",
              " 'F',\n",
              " 'F',\n",
              " 'M',\n",
              " 'F',\n",
              " 'M',\n",
              " 'F',\n",
              " 'F',\n",
              " 'F',\n",
              " 'M',\n",
              " 'M',\n",
              " 'M',\n",
              " 'F',\n",
              " 'M',\n",
              " 'F',\n",
              " 'F',\n",
              " 'M',\n",
              " 'F',\n",
              " 'M',\n",
              " 'F',\n",
              " 'F',\n",
              " 'M',\n",
              " 'M',\n",
              " 'M',\n",
              " 'M',\n",
              " 'M',\n",
              " 'M',\n",
              " 'F',\n",
              " 'M',\n",
              " 'F',\n",
              " 'M',\n",
              " 'F',\n",
              " 'M',\n",
              " 'F',\n",
              " 'F',\n",
              " 'M',\n",
              " 'M',\n",
              " 'F',\n",
              " 'F',\n",
              " 'F',\n",
              " 'F',\n",
              " 'F',\n",
              " 'F',\n",
              " 'M',\n",
              " 'F',\n",
              " 'M',\n",
              " 'F',\n",
              " 'M',\n",
              " 'F',\n",
              " 'M',\n",
              " 'F',\n",
              " 'F',\n",
              " 'F',\n",
              " 'M',\n",
              " 'F',\n",
              " 'F',\n",
              " 'M',\n",
              " 'F',\n",
              " 'M',\n",
              " 'F',\n",
              " 'F',\n",
              " 'M',\n",
              " 'F',\n",
              " 'F',\n",
              " 'F',\n",
              " 'F',\n",
              " 'F',\n",
              " 'M',\n",
              " 'M',\n",
              " 'M',\n",
              " 'M',\n",
              " 'F',\n",
              " 'M',\n",
              " 'F',\n",
              " 'M',\n",
              " 'M',\n",
              " 'F',\n",
              " 'M',\n",
              " 'M',\n",
              " 'M',\n",
              " 'M',\n",
              " 'M',\n",
              " 'M',\n",
              " 'M',\n",
              " 'M',\n",
              " 'M',\n",
              " 'M',\n",
              " 'F',\n",
              " 'F',\n",
              " 'F',\n",
              " 'M',\n",
              " 'M',\n",
              " 'M',\n",
              " 'F',\n",
              " 'F',\n",
              " 'M',\n",
              " 'F',\n",
              " 'M',\n",
              " 'M',\n",
              " 'M',\n",
              " 'M',\n",
              " 'M',\n",
              " 'F',\n",
              " 'F',\n",
              " 'F',\n",
              " 'M',\n",
              " 'M',\n",
              " 'M',\n",
              " 'F',\n",
              " 'M',\n",
              " 'F',\n",
              " 'F',\n",
              " 'M',\n",
              " 'M',\n",
              " 'M',\n",
              " 'F',\n",
              " 'M',\n",
              " 'M',\n",
              " 'F',\n",
              " 'F',\n",
              " 'F',\n",
              " 'F',\n",
              " 'F',\n",
              " 'F',\n",
              " 'F',\n",
              " 'F',\n",
              " 'F',\n",
              " 'F',\n",
              " 'F',\n",
              " 'F',\n",
              " 'F',\n",
              " 'M',\n",
              " 'F',\n",
              " 'M',\n",
              " 'F',\n",
              " 'F',\n",
              " 'F',\n",
              " 'M',\n",
              " 'F',\n",
              " 'F',\n",
              " 'F',\n",
              " 'F',\n",
              " 'F',\n",
              " 'M',\n",
              " 'F',\n",
              " 'F',\n",
              " 'F',\n",
              " 'M',\n",
              " 'M',\n",
              " 'F',\n",
              " 'F',\n",
              " 'M',\n",
              " 'M',\n",
              " 'M',\n",
              " 'M',\n",
              " 'M',\n",
              " 'M',\n",
              " 'F',\n",
              " 'F',\n",
              " 'F',\n",
              " 'F',\n",
              " 'F',\n",
              " 'M',\n",
              " 'M',\n",
              " 'F',\n",
              " 'F',\n",
              " 'F',\n",
              " 'F',\n",
              " 'F',\n",
              " 'M',\n",
              " 'F',\n",
              " 'F',\n",
              " 'F',\n",
              " 'M',\n",
              " 'M',\n",
              " 'M',\n",
              " 'M',\n",
              " 'M',\n",
              " 'F',\n",
              " 'F',\n",
              " 'F',\n",
              " 'M',\n",
              " 'F',\n",
              " 'M',\n",
              " 'M',\n",
              " 'M',\n",
              " 'M',\n",
              " 'M',\n",
              " 'M',\n",
              " 'M',\n",
              " 'M',\n",
              " 'M',\n",
              " 'M',\n",
              " 'F',\n",
              " 'F',\n",
              " 'F',\n",
              " 'M',\n",
              " 'F',\n",
              " 'F',\n",
              " 'F',\n",
              " 'M',\n",
              " 'M',\n",
              " 'M',\n",
              " 'F',\n",
              " 'F',\n",
              " 'F',\n",
              " 'M',\n",
              " 'M',\n",
              " 'F',\n",
              " 'F',\n",
              " 'M',\n",
              " 'M',\n",
              " 'M',\n",
              " 'F',\n",
              " 'M',\n",
              " 'F',\n",
              " 'F',\n",
              " 'F',\n",
              " 'F',\n",
              " 'M',\n",
              " 'F',\n",
              " 'F',\n",
              " 'F',\n",
              " 'F',\n",
              " 'F',\n",
              " 'F',\n",
              " 'F',\n",
              " 'M',\n",
              " 'M',\n",
              " 'M',\n",
              " 'M',\n",
              " 'F',\n",
              " 'F',\n",
              " 'F',\n",
              " 'M',\n",
              " 'F',\n",
              " 'F',\n",
              " 'M',\n",
              " 'M',\n",
              " 'M',\n",
              " 'F',\n",
              " 'F',\n",
              " 'M',\n",
              " 'M',\n",
              " 'F',\n",
              " 'F',\n",
              " 'F',\n",
              " 'M',\n",
              " 'F',\n",
              " 'M',\n",
              " 'F',\n",
              " 'F',\n",
              " 'F',\n",
              " 'M',\n",
              " 'M',\n",
              " 'M',\n",
              " 'F',\n",
              " 'F',\n",
              " 'F',\n",
              " 'F',\n",
              " 'F',\n",
              " 'F',\n",
              " 'F',\n",
              " 'F',\n",
              " 'M',\n",
              " 'F',\n",
              " 'F',\n",
              " 'F',\n",
              " 'F',\n",
              " 'F',\n",
              " 'F',\n",
              " 'M',\n",
              " 'F',\n",
              " 'F',\n",
              " 'F',\n",
              " 'F',\n",
              " 'F',\n",
              " 'F',\n",
              " 'F',\n",
              " 'F',\n",
              " 'M',\n",
              " 'M',\n",
              " 'M',\n",
              " 'F',\n",
              " 'F',\n",
              " 'F',\n",
              " 'M',\n",
              " 'M',\n",
              " 'F',\n",
              " 'F',\n",
              " 'M',\n",
              " 'F',\n",
              " 'F',\n",
              " 'F',\n",
              " 'F',\n",
              " 'F',\n",
              " 'F',\n",
              " 'F',\n",
              " 'M',\n",
              " 'M',\n",
              " 'F',\n",
              " 'F',\n",
              " 'F',\n",
              " 'M',\n",
              " 'M',\n",
              " 'F',\n",
              " 'F',\n",
              " 'F',\n",
              " 'F',\n",
              " 'F',\n",
              " 'F',\n",
              " 'M',\n",
              " 'M',\n",
              " 'F',\n",
              " 'M',\n",
              " 'F',\n",
              " 'M',\n",
              " 'F',\n",
              " 'F',\n",
              " 'M',\n",
              " 'F',\n",
              " 'M',\n",
              " 'M',\n",
              " 'F',\n",
              " 'F',\n",
              " 'F',\n",
              " 'F',\n",
              " 'F',\n",
              " 'F',\n",
              " 'F',\n",
              " 'F',\n",
              " 'M',\n",
              " 'M',\n",
              " 'F',\n",
              " 'F',\n",
              " 'F',\n",
              " 'F',\n",
              " 'F',\n",
              " 'F',\n",
              " 'F',\n",
              " 'F',\n",
              " 'F',\n",
              " 'M',\n",
              " 'M',\n",
              " 'M',\n",
              " 'M',\n",
              " 'M',\n",
              " 'M',\n",
              " 'M',\n",
              " 'F',\n",
              " 'F',\n",
              " 'F',\n",
              " 'M',\n",
              " 'F',\n",
              " 'F',\n",
              " 'F',\n",
              " 'M',\n",
              " 'F',\n",
              " 'F',\n",
              " 'F',\n",
              " 'F',\n",
              " 'F',\n",
              " 'F',\n",
              " 'M',\n",
              " 'F',\n",
              " 'M',\n",
              " 'F',\n",
              " 'M',\n",
              " 'M',\n",
              " 'F',\n",
              " 'F',\n",
              " 'F',\n",
              " 'M',\n",
              " 'M',\n",
              " 'F',\n",
              " 'F',\n",
              " 'M',\n",
              " 'F',\n",
              " 'F',\n",
              " 'F',\n",
              " 'F',\n",
              " 'F',\n",
              " 'F',\n",
              " 'F',\n",
              " 'F',\n",
              " 'F',\n",
              " 'F',\n",
              " 'F',\n",
              " 'M',\n",
              " 'F',\n",
              " 'F',\n",
              " 'F',\n",
              " 'F',\n",
              " 'F',\n",
              " 'F',\n",
              " 'F',\n",
              " 'M',\n",
              " 'F',\n",
              " 'F',\n",
              " 'M',\n",
              " 'M',\n",
              " 'M',\n",
              " 'F',\n",
              " 'F',\n",
              " 'F',\n",
              " 'F',\n",
              " 'F',\n",
              " 'M',\n",
              " 'F',\n",
              " 'F',\n",
              " 'F',\n",
              " 'F',\n",
              " 'F',\n",
              " 'F',\n",
              " 'F',\n",
              " 'F',\n",
              " 'F',\n",
              " 'F',\n",
              " 'M',\n",
              " 'F',\n",
              " 'F',\n",
              " 'F',\n",
              " 'M',\n",
              " 'F',\n",
              " 'M',\n",
              " 'F',\n",
              " 'M',\n",
              " 'F',\n",
              " 'F',\n",
              " 'M',\n",
              " 'M',\n",
              " 'M',\n",
              " 'F',\n",
              " 'M',\n",
              " 'M',\n",
              " 'M',\n",
              " 'M',\n",
              " 'F',\n",
              " 'F',\n",
              " 'F',\n",
              " 'F',\n",
              " 'F',\n",
              " 'M',\n",
              " 'M',\n",
              " 'M',\n",
              " 'F',\n",
              " 'M',\n",
              " 'F',\n",
              " 'F',\n",
              " 'M',\n",
              " 'M',\n",
              " 'M',\n",
              " 'M',\n",
              " 'F',\n",
              " 'F',\n",
              " 'M',\n",
              " 'F',\n",
              " 'M',\n",
              " 'M',\n",
              " 'M',\n",
              " 'M',\n",
              " 'F',\n",
              " 'M',\n",
              " 'M',\n",
              " 'M',\n",
              " 'M',\n",
              " 'M',\n",
              " 'M',\n",
              " 'M',\n",
              " 'M',\n",
              " 'M',\n",
              " 'F',\n",
              " 'F',\n",
              " 'M',\n",
              " 'F',\n",
              " 'M',\n",
              " 'M',\n",
              " 'M',\n",
              " 'M',\n",
              " 'M',\n",
              " 'F',\n",
              " 'F',\n",
              " 'F',\n",
              " 'F',\n",
              " 'F',\n",
              " 'F',\n",
              " 'F',\n",
              " 'F',\n",
              " 'F',\n",
              " 'F',\n",
              " 'F',\n",
              " 'F',\n",
              " 'F',\n",
              " 'M',\n",
              " 'F',\n",
              " 'F',\n",
              " 'M',\n",
              " 'M',\n",
              " 'M',\n",
              " 'F',\n",
              " 'F',\n",
              " 'F',\n",
              " 'F',\n",
              " 'F',\n",
              " 'F',\n",
              " 'F',\n",
              " 'F',\n",
              " 'F',\n",
              " 'F',\n",
              " 'F',\n",
              " 'M',\n",
              " 'F',\n",
              " 'F',\n",
              " 'F',\n",
              " 'M',\n",
              " 'F',\n",
              " 'F',\n",
              " 'F',\n",
              " 'F',\n",
              " 'F',\n",
              " 'M',\n",
              " 'M',\n",
              " 'F',\n",
              " 'F',\n",
              " 'F',\n",
              " 'M',\n",
              " 'F',\n",
              " 'F',\n",
              " 'F',\n",
              " 'F',\n",
              " 'F',\n",
              " 'F',\n",
              " 'F',\n",
              " 'F',\n",
              " 'M',\n",
              " 'M',\n",
              " 'M',\n",
              " 'M',\n",
              " 'M',\n",
              " 'F',\n",
              " 'F',\n",
              " 'F',\n",
              " 'F',\n",
              " 'F',\n",
              " 'F',\n",
              " 'M',\n",
              " 'M']"
            ]
          },
          "metadata": {},
          "execution_count": 12
        }
      ]
    },
    {
      "cell_type": "markdown",
      "source": [
        "10. Unique Values in every column."
      ],
      "metadata": {
        "id": "0UBGFwClR8MZ"
      }
    },
    {
      "cell_type": "code",
      "source": [
        "df.nunique(axis = 0)"
      ],
      "metadata": {
        "id": "fZphh1ge5dF4"
      },
      "execution_count": null,
      "outputs": []
    },
    {
      "cell_type": "markdown",
      "metadata": {
        "id": "hHg_sUdaqCd9"
      },
      "source": [
        "**Task#2**<br>\n",
        "--------------------------\n",
        "-------------------------\n",
        "**Learning Outcomes**<br>\n",
        "**Answer:** <br>\n",
        "1. Contents of the Dataset.<br><br>\n",
        "school - Categorical, string<br>\n",
        "sex    - Categorcial, string<br>\n",
        "age    - Quantitative, int64<br>\n",
        "address- Categorcial, string<br>\n",
        "famsize- Categorcial(Nominal), string<br>\n",
        "Pstatus- Categorcial(Nominal), string<br>\n",
        "Medu   - Quantitative(binary), int64<br>\n",
        "Fedu   - Quantitative(binary), int64<br>\n",
        "Mjob   - Categorcial, string<br>\n",
        "Fjob   - Categorcial, string<br>\n",
        "reason - Categorcial(Nominal), string<br>\n",
        "guardian- Categorcial(Nominal),string<br>\n",
        "traveltime - Quantitative,int64<br>\n",
        "studytime - Quantitative,int64<br>\n",
        "failures - Quantitative,int64<br>\n",
        "schoolsup - Categorcial(binary), string<br>\n",
        "famsup - Categorcial(binary), string<br>\n",
        "paid    - Categorcial(binary), string<br>\n",
        "activities - Categorcial(binary), string<br>\n",
        "nursery - Categorcial(binary), string<br>\n",
        "higher - Categorcial(binary), string<br>\n",
        "internet - Binary, string<br>\n",
        "romantic - Binary, string<br>\n",
        "famrel - Quantitative, int64<br>\n",
        "freetime - Quantitative, int64<br>\n",
        "goout - Quantitative, int64<br>\n",
        "Dalc - Quantitative, int64<br>\n",
        "Walc - Quantitative, int64<br>\n",
        "health - Quantitative, int64<br>\n",
        "absences - Quantitative, int64<br>\n",
        "G1  - Quantitative, int64<br>\n",
        "G2  - Quantitative, int64<br>\n",
        "G3  - Quantitative, int64<br>\n",
        "\n"
      ]
    },
    {
      "cell_type": "markdown",
      "metadata": {
        "id": "a26OyvrwCv0g"
      },
      "source": [
        "2. Various aspects of the features like mean, meadian, mode \n",
        "3. Also interpreting the plots\n",
        "\n",
        "**Mean:** The mean (average) of a data set is found by adding all numbers in the data set and then dividing by the number of values in the set."
      ]
    },
    {
      "cell_type": "code",
      "metadata": {
        "colab": {
          "base_uri": "https://localhost:8080/"
        },
        "id": "hGEJsOk4Sjvo",
        "outputId": "25ec4111-787b-4355-bcb5-9e82568ce8d4"
      },
      "source": [
        "#@title Calculate mean of Age\n",
        "\n",
        "print(\"Mean of Age\\n\\n\",df['age'].mean())\n",
        "print(\"--------------------------------------------------------\\n\\n\")\n",
        "\n",
        "print(\"Median of age\\n\")\n",
        "print(df['age'].median())\n",
        "print(\"--------------------------------------------------------\\n\\n\")\n",
        "#Mode\n",
        "print(\"Mode of age\\n\")\n",
        "print(\"Age : \",df['age'].mode())\n",
        "print(\"--------------------------------------------------------\\n\\n\")"
      ],
      "execution_count": null,
      "outputs": [
        {
          "output_type": "stream",
          "name": "stdout",
          "text": [
            "Mean of Age\n",
            "\n",
            " 16.812688821752264\n",
            "--------------------------------------------------------\n",
            "\n",
            "\n",
            "Median of age\n",
            "\n",
            "17.0\n",
            "--------------------------------------------------------\n",
            "\n",
            "\n",
            "Mode of age\n",
            "\n",
            "Age :  0    17\n",
            "dtype: int64\n"
          ]
        }
      ]
    },
    {
      "cell_type": "code",
      "metadata": {
        "colab": {
          "base_uri": "https://localhost:8080/"
        },
        "outputId": "8a892583-6af8-4dfb-e8e3-3bfe3d5f661f",
        "id": "mb8nSIZJlOzu"
      },
      "source": [
        "#@title Calculation mean of health, going out with friends, workday alcohol consumption,weekend alcohol consumption on the scale of 1 to 5, where 1 is very low and 5 is very high \n",
        "\n",
        "print(\"Mean of health\\n\\n\",df['health'].mean())\n",
        "print(\"--------------------------------------------------------\\n\\n\")\n",
        "print(\"Mean of going out with friends\\n\\n\",df['goout'].mean())\n",
        "print(\"--------------------------------------------------------\\n\\n\")\n",
        "print(\"Mean of heakth\\n\\n\",df['health'].mean())\n",
        "print(\"--------------------------------------------------------\\n\\n\")\n",
        "print(\"Mean of workday alcohol consumption \\n\\n\",df['Dalc'].mean())\n",
        "print(\"--------------------------------------------------------\\n\\n\")\n",
        "print(\"Mean of weekend alcohol consumption \\n\\n\",df['Walc'].mean())\n",
        "print(\"--------------------------------------------------------\\n\\n\")\n",
        "\n"
      ],
      "execution_count": null,
      "outputs": [
        {
          "output_type": "stream",
          "name": "stdout",
          "text": [
            "Mean of health\n",
            "\n",
            " 3.5211480362537766\n",
            "--------------------------------------------------------\n",
            "\n",
            "\n",
            "Mean of going out with friends\n",
            "\n",
            " 3.176737160120846\n",
            "--------------------------------------------------------\n",
            "\n",
            "\n",
            "Mean of heakth\n",
            "\n",
            " 3.5211480362537766\n",
            "--------------------------------------------------------\n",
            "\n",
            "\n",
            "Mean of workday alcohol consumption \n",
            "\n",
            " 1.5075528700906344\n",
            "--------------------------------------------------------\n",
            "\n",
            "\n",
            "Mean of weekend alcohol consumption \n",
            "\n",
            " 2.283987915407855\n",
            "--------------------------------------------------------\n",
            "\n",
            "\n"
          ]
        }
      ]
    },
    {
      "cell_type": "markdown",
      "source": [
        "# **Correlation**"
      ],
      "metadata": {
        "id": "hN1w67ZXnQIW"
      }
    },
    {
      "cell_type": "code",
      "source": [
        "corr=df.corr()\n",
        "\n",
        "plt.figure(figsize=(10,10))\n",
        "sns.heatmap(corr, annot=True, cmap=\"Greens\")\n",
        "plt.title('Correlation of the Attributes', fontsize=20)"
      ],
      "metadata": {
        "colab": {
          "base_uri": "https://localhost:8080/",
          "height": 683
        },
        "id": "YXekbSEtneU4",
        "outputId": "49559af6-2804-437a-f130-c228e38adfa6"
      },
      "execution_count": null,
      "outputs": [
        {
          "output_type": "execute_result",
          "data": {
            "text/plain": [
              "Text(0.5, 1.0, 'Correlation of the Attributes')"
            ]
          },
          "metadata": {},
          "execution_count": 10
        },
        {
          "output_type": "display_data",
          "data": {
            "image/png": "[encoded data removed]",
            "text/plain": [
              "<Figure size 720x720 with 2 Axes>"
            ]
          },
          "metadata": {
            "needs_background": "light"
          }
        }
      ]
    },
    {
      "cell_type": "markdown",
      "source": [
        ""
      ],
      "metadata": {
        "id": "5_7hoJE19VwV"
      }
    },
    {
      "cell_type": "code",
      "source": [
        "#@title Barchart of Visulizing the grades where low grades is catagorized between 0-7, average grade between 7-14 and high grade more than 14\n",
        "plt.figure(figsize=(8,6))\n",
        "df[\"total_grades\"]=(df[\"G1\"]+df[\"G2\"]+df[\"G3\"])/3\n",
        "def marks(total_grades):\n",
        "    if(total_grades<7):\n",
        "        return(\"low\")\n",
        "    elif(total_grades>=7 and total_grades<14):\n",
        "        return(\"average\")\n",
        "    elif(total_grades>=14):\n",
        "        return(\"high\")\n",
        "df[\"grades\"]=df[\"total_grades\"].apply(marks)\n",
        "sns.countplot(df[\"grades\"], order=[\"low\",\"average\",\"high\"], palette='Set1')\n",
        "plt.title('Final Grade - Number of Students',fontsize=20)\n",
        "plt.xlabel('Final Grade', fontsize=16)\n",
        "plt.ylabel('Number of Student', fontsize=16)"
      ],
      "metadata": {
        "colab": {
          "base_uri": "https://localhost:8080/",
          "height": 711
        },
        "id": "1cFkly8WGMUV",
        "outputId": "6e9933eb-fd3e-4929-f0c8-82be4871046b"
      },
      "execution_count": null,
      "outputs": [
        {
          "output_type": "stream",
          "name": "stderr",
          "text": [
            "/usr/local/lib/python3.7/dist-packages/ipykernel_launcher.py:3: SettingWithCopyWarning: \n",
            "A value is trying to be set on a copy of a slice from a DataFrame.\n",
            "Try using .loc[row_indexer,col_indexer] = value instead\n",
            "\n",
            "See the caveats in the documentation: https://pandas.pydata.org/pandas-docs/stable/user_guide/indexing.html#returning-a-view-versus-a-copy\n",
            "  This is separate from the ipykernel package so we can avoid doing imports until\n",
            "/usr/local/lib/python3.7/dist-packages/ipykernel_launcher.py:11: SettingWithCopyWarning: \n",
            "A value is trying to be set on a copy of a slice from a DataFrame.\n",
            "Try using .loc[row_indexer,col_indexer] = value instead\n",
            "\n",
            "See the caveats in the documentation: https://pandas.pydata.org/pandas-docs/stable/user_guide/indexing.html#returning-a-view-versus-a-copy\n",
            "  # This is added back by InteractiveShellApp.init_path()\n",
            "/usr/local/lib/python3.7/dist-packages/seaborn/_decorators.py:43: FutureWarning: Pass the following variable as a keyword arg: x. From version 0.12, the only valid positional argument will be `data`, and passing other arguments without an explicit keyword will result in an error or misinterpretation.\n",
            "  FutureWarning\n"
          ]
        },
        {
          "output_type": "execute_result",
          "data": {
            "text/plain": [
              "Text(0, 0.5, 'Number of Student')"
            ]
          },
          "metadata": {},
          "execution_count": 7
        },
        {
          "output_type": "display_data",
          "data": {
            "image/png": "[encoded data removed]",
            "text/plain": [
              "<Figure size 576x432 with 1 Axes>"
            ]
          },
          "metadata": {
            "needs_background": "light"
          }
        }
      ]
    },
    {
      "cell_type": "code",
      "source": [
        "count_grade=sns.countplot(hue=df[\"school\"],x=df[\"grades\"],data=df)\n",
        "plt.title('Here GP = Gabriel Pereira and  MS =  Mousinho da Silveira', fontsize=10)\n",
        "plt.ylabel('Percentage of Student Counts ', fontsize=10)\n",
        "plt.xlabel('Final Grade', fontsize=10)\n",
        "plt.show()"
      ],
      "metadata": {
        "colab": {
          "base_uri": "https://localhost:8080/",
          "height": 293
        },
        "id": "d3idI55KodvN",
        "outputId": "f46bfd17-2d23-4f70-852d-bef62411a11d"
      },
      "execution_count": null,
      "outputs": [
        {
          "output_type": "display_data",
          "data": {
            "image/png": "[encoded data removed]",
            "text/plain": [
              "<Figure size 432x288 with 1 Axes>"
            ]
          },
          "metadata": {
            "needs_background": "light"
          }
        }
      ]
    },
    {
      "cell_type": "markdown",
      "source": [
        "We can clearly see from this plot that the Gabriel Pereira school has a very high average grade respect to Mousinho da Silveira school."
      ],
      "metadata": {
        "id": "dWheVedL-iH7"
      }
    },
    {
      "cell_type": "markdown",
      "metadata": {
        "id": "bezUIPgrkZYR"
      },
      "source": [
        "**Swarmplot:** Gives a better representation of the distribution of values, but it does not scale well to large numbers of observations"
      ]
    },
    {
      "cell_type": "code",
      "metadata": {
        "colab": {
          "base_uri": "https://localhost:8080/",
          "height": 504
        },
        "id": "A0f30BSfxyCC",
        "outputId": "067a4418-0b65-4c26-fb79-8046c7f15cc6"
      },
      "source": [
        "#@title Swarmplot of abcenses\n",
        "#@\n",
        "import pandas as pd\n",
        "import seaborn as sns\n",
        "from google.colab import drive\n",
        "import matplotlib\n",
        "plt.title('Swarmplot of abcenses', fontsize=10)\n",
        "sns.set_context(\"talk\", font_scale=.4,rc={\"lines.linewidth\": 3})\n",
        "sns.set_context(\"poster\", font_scale=.4,rc={\"lines.linewidth\": 3})\n",
        "sns.swarmplot(x='age', y='absences', data=df)"
      ],
      "execution_count": null,
      "outputs": [
        {
          "output_type": "stream",
          "name": "stderr",
          "text": [
            "/usr/local/lib/python3.7/dist-packages/seaborn/categorical.py:1296: UserWarning: 58.9% of the points cannot be placed; you may want to decrease the size of the markers or use stripplot.\n",
            "  warnings.warn(msg, UserWarning)\n",
            "/usr/local/lib/python3.7/dist-packages/seaborn/categorical.py:1296: UserWarning: 66.5% of the points cannot be placed; you may want to decrease the size of the markers or use stripplot.\n",
            "  warnings.warn(msg, UserWarning)\n",
            "/usr/local/lib/python3.7/dist-packages/seaborn/categorical.py:1296: UserWarning: 61.2% of the points cannot be placed; you may want to decrease the size of the markers or use stripplot.\n",
            "  warnings.warn(msg, UserWarning)\n",
            "/usr/local/lib/python3.7/dist-packages/seaborn/categorical.py:1296: UserWarning: 54.2% of the points cannot be placed; you may want to decrease the size of the markers or use stripplot.\n",
            "  warnings.warn(msg, UserWarning)\n",
            "/usr/local/lib/python3.7/dist-packages/seaborn/categorical.py:1296: UserWarning: 17.8% of the points cannot be placed; you may want to decrease the size of the markers or use stripplot.\n",
            "  warnings.warn(msg, UserWarning)\n"
          ]
        },
        {
          "output_type": "execute_result",
          "data": {
            "text/plain": [
              "<matplotlib.axes._subplots.AxesSubplot at 0x7fc9da8b7f10>"
            ]
          },
          "metadata": {},
          "execution_count": 30
        },
        {
          "output_type": "display_data",
          "data": {
            "image/png": "[encoded data removed]",
            "text/plain": [
              "<Figure size 432x288 with 1 Axes>"
            ]
          },
          "metadata": {
            "needs_background": "light"
          }
        }
      ]
    },
    {
      "cell_type": "markdown",
      "source": [
        "From this it seems students of 17 years of age are more prone to consistantly missig their classes from the other ones."
      ],
      "metadata": {
        "id": "jTusNWTu_Ftx"
      }
    },
    {
      "cell_type": "markdown",
      "metadata": {
        "id": "0H5ETwsalq7F"
      },
      "source": [
        "**Countplot:** Counting total number of identity of each parameter."
      ]
    },
    {
      "cell_type": "code",
      "metadata": {
        "colab": {
          "base_uri": "https://localhost:8080/",
          "height": 320
        },
        "id": "c4wHNn1pz30f",
        "outputId": "6e60d8a4-e0e7-47fb-c811-acd45133072f"
      },
      "source": [
        "#@title Countplot of Age\n",
        "plt.title('Countplot of Age', fontsize=10)\n",
        "sns.countplot(x='age', data=df)"
      ],
      "execution_count": null,
      "outputs": [
        {
          "output_type": "execute_result",
          "data": {
            "text/plain": [
              "<matplotlib.axes._subplots.AxesSubplot at 0x7fc9da7b7c50>"
            ]
          },
          "metadata": {},
          "execution_count": 32
        },
        {
          "output_type": "display_data",
          "data": {
            "image/png": "[encoded data removed]",
            "text/plain": [
              "<Figure size 432x288 with 1 Axes>"
            ]
          },
          "metadata": {
            "needs_background": "light"
          }
        }
      ]
    },
    {
      "cell_type": "code",
      "metadata": {
        "colab": {
          "base_uri": "https://localhost:8080/",
          "height": 326
        },
        "id": "xbXihOsR1PT9",
        "outputId": "7047d676-549a-490a-e788-2b8c59d8c513"
      },
      "source": [
        "#@title #@title Countplot of Health on Scale 1 to 5\n",
        "plt.title('Countplot of Health', fontsize=20)\n",
        "sns.countplot(x='health', data=df)"
      ],
      "execution_count": null,
      "outputs": [
        {
          "output_type": "execute_result",
          "data": {
            "text/plain": [
              "<matplotlib.axes._subplots.AxesSubplot at 0x7fc9da65ce10>"
            ]
          },
          "metadata": {},
          "execution_count": 36
        },
        {
          "output_type": "display_data",
          "data": {
            "image/png": "[encoded data removed]",
            "text/plain": [
              "<Figure size 432x288 with 1 Axes>"
            ]
          },
          "metadata": {
            "needs_background": "light"
          }
        }
      ]
    },
    {
      "cell_type": "code",
      "metadata": {
        "colab": {
          "base_uri": "https://localhost:8080/",
          "height": 326
        },
        "id": "2a8IZq0LAoyW",
        "outputId": "4d2ab386-f7f2-4da5-a436-34ef8a7a2960"
      },
      "source": [
        "#@title #@title Countplot of Freetime on Scale 1 to 5\n",
        "plt.title('Countplot of Health', fontsize=20)\n",
        "sns.countplot(x='health', data=df)"
      ],
      "execution_count": null,
      "outputs": [
        {
          "output_type": "execute_result",
          "data": {
            "text/plain": [
              "<matplotlib.axes._subplots.AxesSubplot at 0x7fc9da62b7d0>"
            ]
          },
          "metadata": {},
          "execution_count": 35
        },
        {
          "output_type": "display_data",
          "data": {
            "image/png": "[encoded data removed]",
            "text/plain": [
              "<Figure size 432x288 with 1 Axes>"
            ]
          },
          "metadata": {
            "needs_background": "light"
          }
        }
      ]
    },
    {
      "cell_type": "code",
      "metadata": {
        "colab": {
          "base_uri": "https://localhost:8080/",
          "height": 326
        },
        "id": "RCQiDDUZM8hy",
        "outputId": "4e717196-f2c4-42b5-8597-3ae62d3f32fa"
      },
      "source": [
        "#@title #@title Countplot of Go Out on Scale 1 to 5\n",
        "plt.title('Countplot of Go out', fontsize=20)\n",
        "sns.countplot(x='goout', data=df)"
      ],
      "execution_count": null,
      "outputs": [
        {
          "output_type": "execute_result",
          "data": {
            "text/plain": [
              "<matplotlib.axes._subplots.AxesSubplot at 0x7fc9da578550>"
            ]
          },
          "metadata": {},
          "execution_count": 37
        },
        {
          "output_type": "display_data",
          "data": {
            "image/png": "[encoded data removed]",
            "text/plain": [
              "<Figure size 432x288 with 1 Axes>"
            ]
          },
          "metadata": {
            "needs_background": "light"
          }
        }
      ]
    },
    {
      "cell_type": "code",
      "source": [
        "#@title #@title Countplot of workday alcohol consumption on Scale 1 to 5\n",
        "plt.title('Countplot of workday alcohol consumption', fontsize=20)\n",
        "sns.countplot(x='Dalc', data=df)"
      ],
      "metadata": {
        "colab": {
          "base_uri": "https://localhost:8080/",
          "height": 305
        },
        "id": "upTCMB8MtN0L",
        "outputId": "7e8565ef-39be-489d-ef35-0be76d187ae7"
      },
      "execution_count": null,
      "outputs": [
        {
          "output_type": "execute_result",
          "data": {
            "text/plain": [
              "<matplotlib.axes._subplots.AxesSubplot at 0x7fc9db1fdc90>"
            ]
          },
          "metadata": {},
          "execution_count": 26
        },
        {
          "output_type": "display_data",
          "data": {
            "image/png": "[encoded data removed]",
            "text/plain": [
              "<Figure size 432x288 with 1 Axes>"
            ]
          },
          "metadata": {
            "needs_background": "light"
          }
        }
      ]
    },
    {
      "cell_type": "code",
      "source": [
        "#@title #@title Countplot of weekend alcohol consumption on Scale 1 to 5\n",
        "plt.title('Countplot of weekend alcohol consumption', fontsize=20)\n",
        "sns.countplot(x='Walc', data=df)"
      ],
      "metadata": {
        "colab": {
          "base_uri": "https://localhost:8080/",
          "height": 326
        },
        "id": "ZH0BDAZytVnL",
        "outputId": "240508a4-1dbd-4b71-b4ef-4ea7a15e20b8"
      },
      "execution_count": null,
      "outputs": [
        {
          "output_type": "execute_result",
          "data": {
            "text/plain": [
              "<matplotlib.axes._subplots.AxesSubplot at 0x7fc9da551890>"
            ]
          },
          "metadata": {},
          "execution_count": 38
        },
        {
          "output_type": "display_data",
          "data": {
            "image/png": "[encoded data removed]",
            "text/plain": [
              "<Figure size 432x288 with 1 Axes>"
            ]
          },
          "metadata": {
            "needs_background": "light"
          }
        }
      ]
    },
    {
      "cell_type": "code",
      "source": [
        "#@title #@title Countplot of weekend alcohol consumption on Scale 1 to 5\n",
        "plt.title('Count of Urban(U) and Rural Student(R)', fontsize=20)\n",
        "sns.countplot(x='address', data=df)"
      ],
      "metadata": {
        "colab": {
          "base_uri": "https://localhost:8080/",
          "height": 326
        },
        "id": "CZRtITNYwkvr",
        "outputId": "c077427d-d02b-4ef9-c4f3-35d5eb765959"
      },
      "execution_count": null,
      "outputs": [
        {
          "output_type": "execute_result",
          "data": {
            "text/plain": [
              "<matplotlib.axes._subplots.AxesSubplot at 0x7fc9da2f7150>"
            ]
          },
          "metadata": {},
          "execution_count": 45
        },
        {
          "output_type": "display_data",
          "data": {
            "image/png": "[encoded data removed]",
            "text/plain": [
              "<Figure size 432x288 with 1 Axes>"
            ]
          },
          "metadata": {
            "needs_background": "light"
          }
        }
      ]
    },
    {
      "cell_type": "markdown",
      "metadata": {
        "id": "VgJE1NKJoJVk"
      },
      "source": [
        "**Pie Chart:** A pie chart (or a circle chart) is a circular statistical graphic, which is divided into slices to illustrate numerical proportion."
      ]
    },
    {
      "cell_type": "code",
      "metadata": {
        "colab": {
          "base_uri": "https://localhost:8080/",
          "height": 614
        },
        "id": "p7B3ui-GNSh5",
        "outputId": "0ab8f14d-a5e9-4ba6-a142-1578cf086203"
      },
      "source": [
        "#@title Pie chart of the percentage of US and Non- US citizen of the dataset\n",
        "plt.title('PieChat of Percentage of Student in that two school', fontsize=20)\n",
        "df.groupby('school')['school'].count().plot.pie(autopct='%.2f', wedgeprops ={ 'linewidth' : 3,'edgecolor' : \"white\" },figsize=(10,10))\n",
        "\n"
      ],
      "execution_count": null,
      "outputs": [
        {
          "output_type": "execute_result",
          "data": {
            "text/plain": [
              "<matplotlib.axes._subplots.AxesSubplot at 0x7fc9da461090>"
            ]
          },
          "metadata": {},
          "execution_count": 43
        },
        {
          "output_type": "display_data",
          "data": {
            "image/png": "[encoded data removed]",
            "text/plain": [
              "<Figure size 720x720 with 1 Axes>"
            ]
          },
          "metadata": {}
        }
      ]
    },
    {
      "cell_type": "code",
      "source": [
        "plt.title('PieChat of Percentage of male(\"M\") and female(\"F\")', fontsize=20)\n",
        "df.groupby('sex')['sex'].count().plot.pie(autopct='%.2f', wedgeprops ={ 'linewidth' : 3,'edgecolor' : \"white\" },figsize=(10,10))"
      ],
      "metadata": {
        "colab": {
          "base_uri": "https://localhost:8080/",
          "height": 614
        },
        "id": "wHnX6fWcyzx7",
        "outputId": "661b3fc1-7c91-45d0-baad-47e7ae8dc546"
      },
      "execution_count": null,
      "outputs": [
        {
          "output_type": "execute_result",
          "data": {
            "text/plain": [
              "<matplotlib.axes._subplots.AxesSubplot at 0x7fc9d994d790>"
            ]
          },
          "metadata": {},
          "execution_count": 55
        },
        {
          "output_type": "display_data",
          "data": {
            "image/png": "[encoded data removed]",
            "text/plain": [
              "<Figure size 720x720 with 1 Axes>"
            ]
          },
          "metadata": {}
        }
      ]
    },
    {
      "cell_type": "code",
      "metadata": {
        "id": "q6WHLjH_dfGn",
        "colab": {
          "base_uri": "https://localhost:8080/",
          "height": 1000
        },
        "outputId": "16acd71c-2b90-4e34-8217-2e95f7f51247"
      },
      "source": [
        "#@title Boxplot of the features\n",
        "sns.set(rc={'figure.figsize':(33,24)})\n",
        "sns.boxplot(data=df)"
      ],
      "execution_count": null,
      "outputs": [
        {
          "output_type": "execute_result",
          "data": {
            "text/plain": [
              "<matplotlib.axes._subplots.AxesSubplot at 0x7fc9d9eba710>"
            ]
          },
          "metadata": {},
          "execution_count": 48
        },
        {
          "output_type": "display_data",
          "data": {
            "image/png": "[encoded data removed]",
            "text/plain": [
              "<Figure size 2376x1728 with 1 Axes>"
            ]
          },
          "metadata": {}
        }
      ]
    },
    {
      "cell_type": "markdown",
      "metadata": {
        "id": "pM0ueFOPrRUr"
      },
      "source": [
        "**Histogram:**A frequency distribution shows how often each different value in a set of data occurs. A histogram is the most commonly used graph to show frequency distributions."
      ]
    },
    {
      "cell_type": "code",
      "metadata": {
        "colab": {
          "base_uri": "https://localhost:8080/",
          "height": 632
        },
        "id": "bDjKbOhD_vyJ",
        "outputId": "a0199f3e-c412-4db5-cb7b-fe791a2a7f86"
      },
      "source": [
        "#@title Histogram of Age\n",
        "import matplotlib.pyplot as plt\n",
        "\n",
        "plt.figure(figsize=(15,9))\n",
        "sns.distplot(df.age)\n",
        "\n",
        "\n"
      ],
      "execution_count": null,
      "outputs": [
        {
          "output_type": "stream",
          "name": "stderr",
          "text": [
            "/usr/local/lib/python3.7/dist-packages/seaborn/distributions.py:2619: FutureWarning: `distplot` is a deprecated function and will be removed in a future version. Please adapt your code to use either `displot` (a figure-level function with similar flexibility) or `histplot` (an axes-level function for histograms).\n",
            "  warnings.warn(msg, FutureWarning)\n"
          ]
        },
        {
          "output_type": "execute_result",
          "data": {
            "text/plain": [
              "<matplotlib.axes._subplots.AxesSubplot at 0x7fc9d9c1cb90>"
            ]
          },
          "metadata": {},
          "execution_count": 50
        },
        {
          "output_type": "display_data",
          "data": {
            "image/png": "[encoded data removed]",
            "text/plain": [
              "<Figure size 1080x648 with 1 Axes>"
            ]
          },
          "metadata": {}
        }
      ]
    },
    {
      "cell_type": "code",
      "source": [
        "#@title Histogram of Study Time\n",
        "plt.figure(figsize=(15,9))\n",
        "sns.distplot(df.studytime)"
      ],
      "metadata": {
        "colab": {
          "base_uri": "https://localhost:8080/",
          "height": 632
        },
        "id": "i9XfCO1fyVsW",
        "outputId": "70dfc289-4942-4413-fb03-9f1c3939af7f"
      },
      "execution_count": null,
      "outputs": [
        {
          "output_type": "stream",
          "name": "stderr",
          "text": [
            "/usr/local/lib/python3.7/dist-packages/seaborn/distributions.py:2619: FutureWarning: `distplot` is a deprecated function and will be removed in a future version. Please adapt your code to use either `displot` (a figure-level function with similar flexibility) or `histplot` (an axes-level function for histograms).\n",
            "  warnings.warn(msg, FutureWarning)\n"
          ]
        },
        {
          "output_type": "execute_result",
          "data": {
            "text/plain": [
              "<matplotlib.axes._subplots.AxesSubplot at 0x7fc9d9aa0210>"
            ]
          },
          "metadata": {},
          "execution_count": 52
        },
        {
          "output_type": "display_data",
          "data": {
            "image/png": "[encoded data removed]",
            "text/plain": [
              "<Figure size 1080x648 with 1 Axes>"
            ]
          },
          "metadata": {}
        }
      ]
    },
    {
      "cell_type": "code",
      "source": [
        "#@title Histogram of Travel time\n",
        "plt.figure(figsize=(15,9))\n",
        "sns.distplot(df.traveltime)"
      ],
      "metadata": {
        "colab": {
          "base_uri": "https://localhost:8080/",
          "height": 632
        },
        "id": "Mc-ME_GvycN6",
        "outputId": "0d986785-aafb-4aa1-a205-d4b95348b5a7"
      },
      "execution_count": null,
      "outputs": [
        {
          "output_type": "stream",
          "name": "stderr",
          "text": [
            "/usr/local/lib/python3.7/dist-packages/seaborn/distributions.py:2619: FutureWarning: `distplot` is a deprecated function and will be removed in a future version. Please adapt your code to use either `displot` (a figure-level function with similar flexibility) or `histplot` (an axes-level function for histograms).\n",
            "  warnings.warn(msg, FutureWarning)\n"
          ]
        },
        {
          "output_type": "execute_result",
          "data": {
            "text/plain": [
              "<matplotlib.axes._subplots.AxesSubplot at 0x7fc9d9cac950>"
            ]
          },
          "metadata": {},
          "execution_count": 53
        },
        {
          "output_type": "display_data",
          "data": {
            "image/png": "[encoded data removed]",
            "text/plain": [
              "<Figure size 1080x648 with 1 Axes>"
            ]
          },
          "metadata": {}
        }
      ]
    },
    {
      "cell_type": "markdown",
      "metadata": {
        "id": "f_mMpYOt5Vp4"
      },
      "source": [
        "4. Ask appropriate questions that can be answered using the available information.<br>\n",
        "\n",
        "  a) Who are the participants of the survey?<br>\n",
        "  b) More male or More female or Equal male female?<br>\n",
        "  c) More under age or more normal aged participants ?<br>\n",
        "  d) Where is the survey conducted?<br>\n",
        "  e) From Which school more response is collected?<br>\n",
        "  f) For What reason the survey is conducted ?<br>\n",
        "  g) How does Travel-time, Different school, Study-time, Gender, Fedu, Medu,    Mjob, Fjob, Famsize, Pstatus, Absenses affect their G1,G2,G3 & Total Grade?<br>\n",
        "  h) Who got more scholarships Male vs Female, MS vs GP?<br>\n",
        "  i) Who got more scholarships Male vs Female , MS vs GP?<br>\n",
        "  j)  Who got more failures Male vs Female , MS vs GP?<br>\n",
        "  k) Who got better G1, G2, G3 & Total Grade Male vs Female , MS vs GP?<br>\n",
        "  l) Who are more into higher studies Male vs Female, MS vs GP?<br>\n",
        "\n",
        "\n",
        "\n"
      ]
    },
    {
      "cell_type": "markdown",
      "source": [
        "5. We use learning method(Supervised/Unsupervised) lke Regression/Classification/Clustering to learn for the give dataset.\n",
        "\n",
        "      we can use our correlation graph to see if we can predict some features haiving positive correlation.\n",
        "\n",
        "\n"
      ],
      "metadata": {
        "id": "FDMZA-VyeF2d"
      }
    },
    {
      "cell_type": "markdown",
      "source": [
        "6. To our findings we think that multivariate regression learning is suitable for this kinda dataset. Because there are multiple feautres which are having an effect on each other."
      ],
      "metadata": {
        "id": "BtCKs3W9fPBo"
      }
    },
    {
      "cell_type": "markdown",
      "source": [
        "7. To know which features are significant we need to know the correlation between them. if it is positive then it might have an effect on it. like in case of study time . we see that study-time has a positive correlation with g1, g2, g3 and total grade meaning if study time increases  total grade also increses. on the other hand there are some other features but they have a negativ relation hence they are not the significant features."
      ],
      "metadata": {
        "id": "BZ6wZJM5fX1x"
      }
    },
    {
      "cell_type": "markdown",
      "source": [
        "8. done in Task #3"
      ],
      "metadata": {
        "id": "o1JHmyg3fjn3"
      }
    },
    {
      "cell_type": "markdown",
      "source": [
        "**Task #3**<br>\n",
        "--------------------------\n",
        "-------------------------\n",
        "**Learning Outcomes**<br>\n",
        "**Answer:** <br>\n",
        "1 & 2 & 3 . <br>\n",
        "a) Simple Linear Regression"
      ],
      "metadata": {
        "id": "kW5PpwYNGgO1"
      }
    },
    {
      "cell_type": "code",
      "source": [
        "#We have 33 cols or Attributes & we are not going to use all of them but a few which are actually useful for our prediction\n",
        "from sklearn.model_selection import train_test_split\n",
        "from sklearn.linear_model import LinearRegression\n",
        "from sklearn.metrics import r2_score\n",
        "data=df[['studytime','G3']] \n",
        "predict='G3'                    # We just stored our output variable in a new variable predict\n",
        "x=np.array(data.drop(['G3'],1)) #We want to drop G3 since its our output variable & 'axis=1'simply means drop the entire column\n",
        "y=np.array(data[predict])\n",
        "accuracy_arr = []"
      ],
      "metadata": {
        "id": "43O5PKVX29B7"
      },
      "execution_count": null,
      "outputs": []
    },
    {
      "cell_type": "code",
      "source": [
        "x_train,x_test,y_train,y_test=train_test_split(x, y, test_size=0.33)\n",
        "linear=LinearRegression().fit(x_train, y_train)  #Fit our model on x_train & y_train\n",
        "accuracy=linear.score(x_test,y_test)  \n",
        "print(accuracy)\n",
        "accuracy_arr.append([\"Simple Linear Regression\", accuracy])"
      ],
      "metadata": {
        "id": "Nh7T3w4a3O90",
        "colab": {
          "base_uri": "https://localhost:8080/"
        },
        "outputId": "db8fc8fb-ca2a-4922-bbc0-cf9d6f8ac23a"
      },
      "execution_count": null,
      "outputs": [
        {
          "output_type": "stream",
          "name": "stdout",
          "text": [
            "0.03561198804681176\n"
          ]
        }
      ]
    },
    {
      "cell_type": "markdown",
      "source": [
        "MSE of Simple Linear Regression\n"
      ],
      "metadata": {
        "id": "Jg0SXJARjDUg"
      }
    },
    {
      "cell_type": "code",
      "source": [
        "predictions=linear.predict(x_test)\n",
        "print(np.sqrt(mean_squared_error(y_test,predictions))) "
      ],
      "metadata": {
        "colab": {
          "base_uri": "https://localhost:8080/"
        },
        "id": "pmbeszzrjK4s",
        "outputId": "972e5522-49c4-4ab9-ad75-58fb8a0fb8bc"
      },
      "execution_count": null,
      "outputs": [
        {
          "output_type": "stream",
          "name": "stdout",
          "text": [
            "2.8237437837071986\n"
          ]
        }
      ]
    },
    {
      "cell_type": "markdown",
      "source": [
        "R2-Score of Simple linear Regression"
      ],
      "metadata": {
        "id": "srcdGIx9kZeH"
      }
    },
    {
      "cell_type": "code",
      "source": [
        "print(r2_score(y_test, predictions)) "
      ],
      "metadata": {
        "colab": {
          "base_uri": "https://localhost:8080/"
        },
        "id": "CZm-IdD3kWz4",
        "outputId": "3b9a85b9-b2d5-4b72-d088-254805415ca4"
      },
      "execution_count": null,
      "outputs": [
        {
          "output_type": "stream",
          "name": "stdout",
          "text": [
            "0.03561198804681176\n"
          ]
        }
      ]
    },
    {
      "cell_type": "markdown",
      "source": [
        "b) Multiple Linear Regression"
      ],
      "metadata": {
        "id": "xczbbRFfHQ5l"
      }
    },
    {
      "cell_type": "code",
      "source": [
        "#We have 33 cols or Attributes & we are not going to use all of them but a few which are actually useful for our prediction\n",
        "from sklearn.model_selection import train_test_split\n",
        "from sklearn.linear_model import LinearRegression\n",
        "data=df[['absences','failures','G1','G2','G3','studytime']] #Attributes of our use , You can use different attributes of interest & play around\n",
        "\n",
        "#Now we are going to create 2 arrays, One which is going to store our predictors & one to store our output variable\n",
        "#in this case G3(GRADE FOR SEM3 ) is our output variable or label\n",
        "\n",
        "predict='G3'                    # We just stored our output variable in a new variable predict\n",
        "x=np.array(data.drop(['G3'],1)) #We want to drop G3 since its our output variable & 'axis=1'simply means drop the entire column\n",
        "y=np.array(data[predict])"
      ],
      "metadata": {
        "id": "bkVMDEN90Yvh"
      },
      "execution_count": null,
      "outputs": []
    },
    {
      "cell_type": "markdown",
      "source": [
        "Spliting train and test dataset\n"
      ],
      "metadata": {
        "id": "YETq4dOtaUMS"
      }
    },
    {
      "cell_type": "code",
      "source": [
        "x_train,x_test,y_train,y_test=train_test_split(x, y, test_size=0.33) "
      ],
      "metadata": {
        "id": "045j2XcZ0mQg"
      },
      "execution_count": null,
      "outputs": []
    },
    {
      "cell_type": "code",
      "source": [
        "linear=LinearRegression().fit(x_train, y_train)  #Fit our model on x_train & y_train\n",
        "accuracy=linear.score(x_test,y_test)  \n",
        "print(accuracy)\n",
        "accuracy_arr.append([\"Multiple Linear Regression\", accuracy])"
      ],
      "metadata": {
        "id": "YvDGCWSN3V44",
        "outputId": "e8e7421d-5e66-40f9-9611-c2c23f7946cd",
        "colab": {
          "base_uri": "https://localhost:8080/"
        }
      },
      "execution_count": null,
      "outputs": [
        {
          "output_type": "stream",
          "name": "stdout",
          "text": [
            "0.8286932587610312\n"
          ]
        }
      ]
    },
    {
      "cell_type": "markdown",
      "source": [
        "MSE of Multiple Linear Regression\n"
      ],
      "metadata": {
        "id": "l2_yVY4BiAcf"
      }
    },
    {
      "cell_type": "code",
      "source": [
        "predictions=linear.predict(x_test)\n",
        "print(np.sqrt(mean_squared_error(y_test,predictions))) "
      ],
      "metadata": {
        "colab": {
          "base_uri": "https://localhost:8080/"
        },
        "id": "LJLjB8apiKNq",
        "outputId": "24984738-d42c-415a-a062-38910e4fabbe"
      },
      "execution_count": null,
      "outputs": [
        {
          "output_type": "stream",
          "name": "stdout",
          "text": [
            "1.3510552476383564\n"
          ]
        }
      ]
    },
    {
      "cell_type": "markdown",
      "source": [
        "R-Square of Multiple Linear Regression\n"
      ],
      "metadata": {
        "id": "j7Pbf1k-iffQ"
      }
    },
    {
      "cell_type": "code",
      "source": [
        "print(r2_score(y_test, predictions)) "
      ],
      "metadata": {
        "colab": {
          "base_uri": "https://localhost:8080/"
        },
        "id": "o07Gn4JQio-z",
        "outputId": "f23dc210-787d-446d-e2c4-f721fb91845d"
      },
      "execution_count": null,
      "outputs": [
        {
          "output_type": "stream",
          "name": "stdout",
          "text": [
            "0.8286932587610312\n"
          ]
        }
      ]
    },
    {
      "cell_type": "markdown",
      "source": [
        "c) Ridge Regression"
      ],
      "metadata": {
        "id": "7g5pJohlIm0w"
      }
    },
    {
      "cell_type": "markdown",
      "source": [
        "Train Score"
      ],
      "metadata": {
        "id": "9uQYKXqBfpzR"
      }
    },
    {
      "cell_type": "code",
      "source": [
        "rr = Ridge(alpha=0.01)\n",
        "rr.fit(x_train, y_train) \n",
        "pred_train_rr= rr.predict(x_train)\n",
        "print(r2_score(y_train, pred_train_rr))\n",
        "\n"
      ],
      "metadata": {
        "colab": {
          "base_uri": "https://localhost:8080/"
        },
        "id": "2bxwyEoXdzPA",
        "outputId": "f78a59ce-66df-4545-b645-bccf28bc40e4"
      },
      "execution_count": null,
      "outputs": [
        {
          "output_type": "stream",
          "name": "stdout",
          "text": [
            "0.8524665017484786\n"
          ]
        }
      ]
    },
    {
      "cell_type": "markdown",
      "source": [
        "Test Score"
      ],
      "metadata": {
        "id": "8O6gcOmFgB8y"
      }
    },
    {
      "cell_type": "code",
      "source": [
        "pred_test_rr= rr.predict(x_test)\n",
        "print(r2_score(y_test, pred_test_rr))\n",
        "accuracy_arr.append([\"Ridge Regression\", accuracy])"
      ],
      "metadata": {
        "colab": {
          "base_uri": "https://localhost:8080/"
        },
        "id": "yQHpv2cNgF25",
        "outputId": "71977412-e5dc-42e0-9f52-67722649606d"
      },
      "execution_count": null,
      "outputs": [
        {
          "output_type": "stream",
          "name": "stdout",
          "text": [
            "0.8286934825794872\n"
          ]
        }
      ]
    },
    {
      "cell_type": "markdown",
      "source": [
        "MSE of Ridge Regression Model"
      ],
      "metadata": {
        "id": "7i9uCxasgWLT"
      }
    },
    {
      "cell_type": "code",
      "source": [
        "predictions=linear.predict(x_test)\n",
        "print('MSE      : ',format(np.sqrt(mean_squared_error(y_test,predictions)),\"3f\"))\n",
        "print('r2_score : ',format(r2_score(y_test, predictions),\"3f\"))"
      ],
      "metadata": {
        "colab": {
          "base_uri": "https://localhost:8080/"
        },
        "id": "XVwptesHgZwR",
        "outputId": "c8b0df24-1873-4a1f-838b-453740302cc3"
      },
      "execution_count": null,
      "outputs": [
        {
          "output_type": "stream",
          "name": "stdout",
          "text": [
            "1.351054365036784\n"
          ]
        }
      ]
    },
    {
      "cell_type": "markdown",
      "source": [
        "R-Square Value of Ridge Regression"
      ],
      "metadata": {
        "id": "LkSQzBGpgsI6"
      }
    },
    {
      "cell_type": "code",
      "source": [
        "print(r2_score(y_test, pred_test_rr))"
      ],
      "metadata": {
        "colab": {
          "base_uri": "https://localhost:8080/"
        },
        "id": "DnJAXw4EhAQy",
        "outputId": "ef42356f-1e8a-4845-daf5-efb501dd8cf3"
      },
      "execution_count": null,
      "outputs": [
        {
          "output_type": "stream",
          "name": "stdout",
          "text": [
            "0.8286934825794872\n"
          ]
        }
      ]
    },
    {
      "cell_type": "code",
      "source": [
        "print(accuracy_arr)"
      ],
      "metadata": {
        "colab": {
          "base_uri": "https://localhost:8080/"
        },
        "id": "uQMcPLMLl6Uk",
        "outputId": "e361ce37-3e70-484f-8538-0c3a8ccdd0b2"
      },
      "execution_count": null,
      "outputs": [
        {
          "output_type": "stream",
          "name": "stdout",
          "text": [
            "[['Simple Linear Regression', 0.03561198804681176], ['Multiple Linear Regression', 0.8286932587610312], ['Ridge Regression', 0.8286932587610312]]\n"
          ]
        }
      ]
    },
    {
      "cell_type": "markdown",
      "source": [
        "4. Simple Regression :-\n",
        "             Simple linear regression is a regression model that estimates the relationship between one independent variable and one dependent variable using a straight line. Both variables should be quantitative\n",
        "    \n",
        "  <br>\n",
        "  Multiple Linear Regression :-\n",
        "                            \n",
        "              Multiple linear regression (MLR), also known simply as multiple regression, is a statistical technique that uses several explanatory variables to predict the outcome of a response variable\n",
        "\n",
        "  <br>\n",
        "  Ridge Regression :-              \n",
        "                                                                                                      \n",
        "              Ridge regression is a method of estimating the coefficients of multiple-regression models in scenarios where independent variables are highly correlated"
      ],
      "metadata": {
        "id": "Q5w4payiJQAJ"
      }
    },
    {
      "cell_type": "markdown",
      "source": [
        "5. Done in the code"
      ],
      "metadata": {
        "id": "xWYZ18ebLPWr"
      }
    },
    {
      "cell_type": "markdown",
      "source": [
        "6. Done testing the model data"
      ],
      "metadata": {
        "id": "F8Gxo1HyKan_"
      }
    },
    {
      "cell_type": "markdown",
      "metadata": {
        "id": "5z-PWlq-0-EV"
      },
      "source": [
        "7. Story to tell :-   \n",
        "<br> The dataset is a survey about measuring studenst performance based on daily lives of two schooles in Portuguese<br>\n",
        "  a) Gabriel Pereira <br>\n",
        "  b) Mousinho da Silveira <br>\n",
        "\n",
        "All the participants areteenage students form the school. 65.56% of the students were from  GP school and rest of the 34.44% were from MS school. And  58.91% of the participents were female, 41.01% were male.<br> <br>\n",
        "\n",
        "We can see that GP school students have a better average grade from ther school.\n",
        "we can also see that if students increase theirs study times they can achieve better resutls also Pstatus of their households affect their academic performance. And students who are absent of their classes are also prone having more failurs. And studens of age 17 are more prone absenting from their classes consistantly respect to other students. Also we can see that alcohol consumption increses in Weekend day respect to other working days.\n",
        "\n",
        "\n",
        "\n"
      ]
    },
    {
      "cell_type": "markdown",
      "source": [
        ""
      ],
      "metadata": {
        "id": "j_Lti9cPnkpA"
      }
    },
    {
      "cell_type": "markdown",
      "source": [
        "9 & 10 & 11 & 12.\n",
        "\n",
        "The metrices used here is R-square "
      ],
      "metadata": {
        "id": "FYhgKGLtPci5"
      }
    },
    {
      "cell_type": "code",
      "source": [
        "pd.DataFrame(accuracy_arr)"
      ],
      "metadata": {
        "colab": {
          "base_uri": "https://localhost:8080/",
          "height": 144
        },
        "id": "2wH6wTwwmGlb",
        "outputId": "0bc4dd1b-f2ec-4edb-ce65-ac9cf2a49458"
      },
      "execution_count": null,
      "outputs": [
        {
          "output_type": "execute_result",
          "data": {
            "text/html": [
              "\n",
              "  <div id=\"df-1ee7ff3a-a37b-463d-a0b9-20add42c6269\">\n",
              "    <div class=\"colab-df-container\">\n",
              "      <div>\n",
              "<style scoped>\n",
              "    .dataframe tbody tr th:only-of-type {\n",
              "        vertical-align: middle;\n",
              "    }\n",
              "\n",
              "    .dataframe tbody tr th {\n",
              "        vertical-align: top;\n",
              "    }\n",
              "\n",
              "    .dataframe thead th {\n",
              "        text-align: right;\n",
              "    }\n",
              "</style>\n",
              "<table border=\"1\" class=\"dataframe\">\n",
              "  <thead>\n",
              "    <tr style=\"text-align: right;\">\n",
              "      <th></th>\n",
              "      <th>0</th>\n",
              "      <th>1</th>\n",
              "    </tr>\n",
              "  </thead>\n",
              "  <tbody>\n",
              "    <tr>\n",
              "      <th>0</th>\n",
              "      <td>Simple Linear Regression</td>\n",
              "      <td>0.035612</td>\n",
              "    </tr>\n",
              "    <tr>\n",
              "      <th>1</th>\n",
              "      <td>Multiple Linear Regression</td>\n",
              "      <td>0.828693</td>\n",
              "    </tr>\n",
              "    <tr>\n",
              "      <th>2</th>\n",
              "      <td>Ridge Regression</td>\n",
              "      <td>0.828693</td>\n",
              "    </tr>\n",
              "  </tbody>\n",
              "</table>\n",
              "</div>\n",
              "      <button class=\"colab-df-convert\" onclick=\"convertToInteractive('df-1ee7ff3a-a37b-463d-a0b9-20add42c6269')\"\n",
              "              title=\"Convert this dataframe to an interactive table.\"\n",
              "              style=\"display:none;\">\n",
              "        \n",
              "  <svg xmlns=\"http://www.w3.org/2000/svg\" height=\"24px\"viewBox=\"0 0 24 24\"\n",
              "       width=\"24px\">\n",
              "    <path d=\"M0 0h24v24H0V0z\" fill=\"none\"/>\n",
              "    <path d=\"M18.56 5.44l.94 2.06.94-2.06 2.06-.94-2.06-.94-.94-2.06-.94 2.06-2.06.94zm-11 1L8.5 8.5l.94-2.06 2.06-.94-2.06-.94L8.5 2.5l-.94 2.06-2.06.94zm10 10l.94 2.06.94-2.06 2.06-.94-2.06-.94-.94-2.06-.94 2.06-2.06.94z\"/><path d=\"M17.41 7.96l-1.37-1.37c-.4-.4-.92-.59-1.43-.59-.52 0-1.04.2-1.43.59L10.3 9.45l-7.72 7.72c-.78.78-.78 2.05 0 2.83L4 21.41c.39.39.9.59 1.41.59.51 0 1.02-.2 1.41-.59l7.78-7.78 2.81-2.81c.8-.78.8-2.07 0-2.86zM5.41 20L4 18.59l7.72-7.72 1.47 1.35L5.41 20z\"/>\n",
              "  </svg>\n",
              "      </button>\n",
              "      \n",
              "  <style>\n",
              "    .colab-df-container {\n",
              "      display:flex;\n",
              "      flex-wrap:wrap;\n",
              "      gap: 12px;\n",
              "    }\n",
              "\n",
              "    .colab-df-convert {\n",
              "      background-color: #E8F0FE;\n",
              "      border: none;\n",
              "      border-radius: 50%;\n",
              "      cursor: pointer;\n",
              "      display: none;\n",
              "      fill: #1967D2;\n",
              "      height: 32px;\n",
              "      padding: 0 0 0 0;\n",
              "      width: 32px;\n",
              "    }\n",
              "\n",
              "    .colab-df-convert:hover {\n",
              "      background-color: #E2EBFA;\n",
              "      box-shadow: 0px 1px 2px rgba(60, 64, 67, 0.3), 0px 1px 3px 1px rgba(60, 64, 67, 0.15);\n",
              "      fill: #174EA6;\n",
              "    }\n",
              "\n",
              "    [theme=dark] .colab-df-convert {\n",
              "      background-color: #3B4455;\n",
              "      fill: #D2E3FC;\n",
              "    }\n",
              "\n",
              "    [theme=dark] .colab-df-convert:hover {\n",
              "      background-color: #434B5C;\n",
              "      box-shadow: 0px 1px 3px 1px rgba(0, 0, 0, 0.15);\n",
              "      filter: drop-shadow(0px 1px 2px rgba(0, 0, 0, 0.3));\n",
              "      fill: #FFFFFF;\n",
              "    }\n",
              "  </style>\n",
              "\n",
              "      <script>\n",
              "        const buttonEl =\n",
              "          document.querySelector('#df-1ee7ff3a-a37b-463d-a0b9-20add42c6269 button.colab-df-convert');\n",
              "        buttonEl.style.display =\n",
              "          google.colab.kernel.accessAllowed ? 'block' : 'none';\n",
              "\n",
              "        async function convertToInteractive(key) {\n",
              "          const element = document.querySelector('#df-1ee7ff3a-a37b-463d-a0b9-20add42c6269');\n",
              "          const dataTable =\n",
              "            await google.colab.kernel.invokeFunction('convertToInteractive',\n",
              "                                                     [key], {});\n",
              "          if (!dataTable) return;\n",
              "\n",
              "          const docLinkHtml = 'Like what you see? Visit the ' +\n",
              "            '<a target=\"_blank\" href=https://colab.research.google.com/notebooks/data_table.ipynb>data table notebook</a>'\n",
              "            + ' to learn more about interactive tables.';\n",
              "          element.innerHTML = '';\n",
              "          dataTable['output_type'] = 'display_data';\n",
              "          await google.colab.output.renderOutput(dataTable, element);\n",
              "          const docLink = document.createElement('div');\n",
              "          docLink.innerHTML = docLinkHtml;\n",
              "          element.appendChild(docLink);\n",
              "        }\n",
              "      </script>\n",
              "    </div>\n",
              "  </div>\n",
              "  "
            ],
            "text/plain": [
              "                            0         1\n",
              "0    Simple Linear Regression  0.035612\n",
              "1  Multiple Linear Regression  0.828693\n",
              "2            Ridge Regression  0.828693"
            ]
          },
          "metadata": {},
          "execution_count": 68
        }
      ]
    },
    {
      "cell_type": "markdown",
      "source": [
        "The Mse of the models Linear, Multiple Linear & Ridge Regression are respectectively 2.82, 1.35, 1.35\n",
        "\n",
        "Here we can see the Multiple and Ridge regression performs better and also performs same. \n",
        "\n",
        "So we can pick any of the two models from Multiple or Ridge regression.\n",
        "\n",
        "\n",
        "\n"
      ],
      "metadata": {
        "id": "TbawdGQioQXh"
      }
    },
    {
      "cell_type": "markdown",
      "source": [
        "**Conclusion** <br>\n",
        "\n",
        "The data set is about the school performance of teenagers of two different schools of two different subjects Mathematics and Portuguese language in two different CSV files. So we merged those files and removed the duplicates at first. Then Selected some of the attributes to analyze students performance \n",
        "\n",
        "Here We have used three models on the same dataset predicting the G3 value.\n",
        "\n",
        "in the Simple regression, we only used study time as an independent variable and G3 as our dependent variable hence predicting the G3 value based on study time. we got an accuracy of .03 and an MSE value of 2.82\n",
        "\n",
        "In the Multivariable regression, we used absences, failures, G1, G2, G3, study time as our independent variables and G3 as our dependent variable. We got an accuracy of .82 and an MSE value of 1.35\n",
        "\n",
        "And then we used Ridge regression with the same parameter as we used in multivariate regression and we end up with similar results. "
      ],
      "metadata": {
        "id": "tECtcWrCpMQ5"
      }
    }
  ]
}